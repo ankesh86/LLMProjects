{
  "nbformat": 4,
  "nbformat_minor": 0,
  "metadata": {
    "colab": {
      "provenance": [],
      "authorship_tag": "ABX9TyN4oTeMmBV0qV6Vmffszy4d",
      "include_colab_link": true
    },
    "kernelspec": {
      "name": "python3",
      "display_name": "Python 3"
    },
    "language_info": {
      "name": "python"
    }
  },
  "cells": [
    {
      "cell_type": "markdown",
      "metadata": {
        "id": "view-in-github",
        "colab_type": "text"
      },
      "source": [
        "<a href=\"https://colab.research.google.com/github/ankesh86/LLMProjects/blob/main/PubmedChainAgent.ipynb\" target=\"_parent\"><img src=\"https://colab.research.google.com/assets/colab-badge.svg\" alt=\"Open In Colab\"/></a>"
      ]
    },
    {
      "cell_type": "code",
      "execution_count": 2,
      "metadata": {
        "colab": {
          "base_uri": "https://localhost:8080/"
        },
        "id": "xcZ7NAwxYtpc",
        "outputId": "9956d1ee-ec0e-4f5b-f075-20ec7d6056f6"
      },
      "outputs": [
        {
          "output_type": "stream",
          "name": "stdout",
          "text": [
            "\u001b[2K     \u001b[90m━━━━━━━━━━━━━━━━━━━━━━━━━━━━━━━━━━━━━━━━\u001b[0m \u001b[32m2.1/2.1 MB\u001b[0m \u001b[31m7.9 MB/s\u001b[0m eta \u001b[36m0:00:00\u001b[0m\n",
            "\u001b[2K     \u001b[90m━━━━━━━━━━━━━━━━━━━━━━━━━━━━━━━━━━━━━━━━\u001b[0m \u001b[32m308.5/308.5 kB\u001b[0m \u001b[31m25.6 MB/s\u001b[0m eta \u001b[36m0:00:00\u001b[0m\n",
            "\u001b[2K     \u001b[90m━━━━━━━━━━━━━━━━━━━━━━━━━━━━━━━━━━━━━━━━\u001b[0m \u001b[32m122.8/122.8 kB\u001b[0m \u001b[31m13.8 MB/s\u001b[0m eta \u001b[36m0:00:00\u001b[0m\n",
            "\u001b[2K     \u001b[90m━━━━━━━━━━━━━━━━━━━━━━━━━━━━━━━━━━━━━━━━\u001b[0m \u001b[32m105.4/105.4 kB\u001b[0m \u001b[31m11.3 MB/s\u001b[0m eta \u001b[36m0:00:00\u001b[0m\n",
            "\u001b[2K     \u001b[90m━━━━━━━━━━━━━━━━━━━━━━━━━━━━━━━━━━━━━━━━\u001b[0m \u001b[32m49.3/49.3 kB\u001b[0m \u001b[31m5.9 MB/s\u001b[0m eta \u001b[36m0:00:00\u001b[0m\n",
            "\u001b[2K     \u001b[90m━━━━━━━━━━━━━━━━━━━━━━━━━━━━━━━━━━━━━━━━\u001b[0m \u001b[32m75.6/75.6 kB\u001b[0m \u001b[31m8.4 MB/s\u001b[0m eta \u001b[36m0:00:00\u001b[0m\n",
            "\u001b[2K     \u001b[90m━━━━━━━━━━━━━━━━━━━━━━━━━━━━━━━━━━━━━━━━\u001b[0m \u001b[32m53.0/53.0 kB\u001b[0m \u001b[31m6.0 MB/s\u001b[0m eta \u001b[36m0:00:00\u001b[0m\n",
            "\u001b[2K     \u001b[90m━━━━━━━━━━━━━━━━━━━━━━━━━━━━━━━━━━━━━━━━\u001b[0m \u001b[32m142.5/142.5 kB\u001b[0m \u001b[31m4.3 MB/s\u001b[0m eta \u001b[36m0:00:00\u001b[0m\n",
            "\u001b[2K     \u001b[90m━━━━━━━━━━━━━━━━━━━━━━━━━━━━━━━━━━━━━━━━\u001b[0m \u001b[32m77.9/77.9 kB\u001b[0m \u001b[31m9.2 MB/s\u001b[0m eta \u001b[36m0:00:00\u001b[0m\n",
            "\u001b[2K     \u001b[90m━━━━━━━━━━━━━━━━━━━━━━━━━━━━━━━━━━━━━━━━\u001b[0m \u001b[32m58.3/58.3 kB\u001b[0m \u001b[31m7.0 MB/s\u001b[0m eta \u001b[36m0:00:00\u001b[0m\n",
            "\u001b[?25h"
          ]
        }
      ],
      "source": [
        "!pip -q install langchain langchain-groq langchain-community"
      ]
    },
    {
      "cell_type": "code",
      "source": [
        "!pip -q install xmltodict"
      ],
      "metadata": {
        "id": "Y8vSm-mqZJJV"
      },
      "execution_count": 3,
      "outputs": []
    },
    {
      "cell_type": "code",
      "source": [
        "from langchain_community.tools.pubmed.tool import PubmedQueryRun\n",
        "tool = PubmedQueryRun()\n",
        "\n",
        "tool.invoke(\"The most common non communicable disease world wide is?\")"
      ],
      "metadata": {
        "id": "0BfMI2vRaFSX"
      },
      "execution_count": 4,
      "outputs": []
    },
    {
      "cell_type": "code",
      "source": [],
      "metadata": {
        "id": "gK6KQIZyaH6T"
      },
      "execution_count": 5,
      "outputs": []
    },
    {
      "cell_type": "code",
      "source": [],
      "metadata": {
        "colab": {
          "base_uri": "https://localhost:8080/",
          "height": 157
        },
        "id": "O6XkarG5aKih",
        "outputId": "5c448cd2-b5b0-4394-ac68-f6112e4b4b85"
      },
      "execution_count": 7,
      "outputs": [
        {
          "output_type": "stream",
          "name": "stdout",
          "text": [
            "Too Many Requests, waiting for 0.20 seconds...\n"
          ]
        },
        {
          "output_type": "execute_result",
          "data": {
            "text/plain": [
              "'Published: 2024-03-26\\nTitle: Characterization of cell cycle, inflammation, and oxidative stress signaling role in non-communicable diseases: Insights into genetic variants, microRNAs and pathways.\\nCopyright Information: Copyright © 2024 Elsevier Ltd. All rights reserved.\\nSummary::\\nNon-Communicable Diseases (NCDs) significantly impact global health, contributing to over 70% of premature deaths, as reported by the World Health Organization (WHO). These diseases have complex and multifactorial origins, involving genetic, epigenetic, environmental and lifestyle factors. While Genome-Wide Association Study (GWAS) is widely recognized as a valuable tool for identifying variants associated with complex phenotypes; the multifactorial nature of NCDs necessitates a more comprehensive exploration, encompassing not only the genetic but also the epigenetic aspect. For this purpose, we employed a bioinformatics-multiomics approach to examine the genetic and epigenetic characteristics of NCDs (i.e. colorectal cancer, coronary atherosclerosis, squamous cell lung cancer, psoriasis, type 2 diabetes, and multiple sclerosis), aiming to identify novel biomarkers for diagnosis and prognosis. Leveraging GWAS summary statistics, we pinpointed Single Nucleotide Polymorphisms (SNPs) independently associated with each NCD. Subsequently, we identified genes linked to cell cycle, inflammation and oxidative stress mechanisms, revealing shared genes across multiple diseases, suggesting common functional pathways. From an epigenetic perspective, we identified microRNAs (miRNAs) with regulatory functions targeting these genes of interest. Our findings underscore critical genetic pathways implicated in these diseases. In colorectal cancer, the dysregulation of the \"Cytokine Signaling in Immune System\" pathway, involving LAMA5 and SMAD7, regulated by Hsa-miR-21-5p, Hsa-miR-103a-3p, and Hsa-miR-195-5p, emerged as pivotal. In coronary atherosclerosis, the pathway associated with \"binding of TCF/LEF:CTN'"
            ],
            "application/vnd.google.colaboratory.intrinsic+json": {
              "type": "string"
            }
          },
          "metadata": {},
          "execution_count": 7
        }
      ]
    },
    {
      "cell_type": "markdown",
      "source": [
        "Published: 2024-03-26\n",
        "Title: Characterization of cell cycle, inflammation, and oxidative stress signaling role in non-communicable diseases: Insights into genetic variants, microRNAs and pathways.\n",
        "Copyright Information: Copyright © 2024 Elsevier Ltd. All rights reserved.\n",
        "Summary::\n",
        "Non-Communicable Diseases (NCDs) significantly impact global health, contributing to over 70% of premature deaths, as reported by the World Health Organization (WHO). These diseases have complex and multifactorial origins, involving genetic, epigenetic, environmental and lifestyle factors. While Genome-Wide Association Study (GWAS) is widely recognized as a valuable tool for identifying variants associated with complex phenotypes; the multifactorial nature of NCDs necessitates a more comprehensive exploration, encompassing not only the genetic but also the epigenetic aspect. For this purpose, we employed a bioinformatics-multiomics approach to examine the genetic and epigenetic characteristics of NCDs (i.e. colorectal cancer, coronary atherosclerosis, squamous cell lung cancer, psoriasis, type 2 diabetes, and multiple sclerosis), aiming to identify novel biomarkers for diagnosis and prognosis. Leveraging GWAS summary statistics, we pinpointed Single Nucleotide Polymorphisms (SNPs) independently associated with each NCD. Subsequently, we identified genes linked to cell cycle, inflammation and oxidative stress mechanisms, revealing shared genes across multiple diseases, suggesting common functional pathways. From an epigenetic perspective, we identified microRNAs (miRNAs) with regulatory functions targeting these genes of interest. Our findings underscore critical genetic pathways implicated in these diseases. In colorectal cancer, the dysregulation of the \"Cytokine Signaling in Immune System\" pathway, involving LAMA5 and SMAD7, regulated by Hsa-miR-21-5p, Hsa-miR-103a-3p, and Hsa-miR-195-5p, emerged as pivotal. In coronary atherosclerosis, the pathway associated with \"binding of TCF/LEF:CTN"
      ],
      "metadata": {
        "id": "NyL8pWOJaP20"
      }
    },
    {
      "cell_type": "code",
      "source": [
        "from langchain.agents import AgentType, initialize_agent, load_tools\n",
        "from langchain_groq import ChatGroq\n",
        "from google.colab import userdata\n",
        "GROQ_API_KEY=userdata.get('GROQ_API_KEY')\n",
        "\n",
        "llm = ChatGroq(temperature=0, groq_api_key=GROQ_API_KEY, model_name=\"llama3-70b-8192\")\n",
        "#tools = load_tools([\"ddg-search\"],llm=llm)\n",
        "\n",
        "tools = load_tools(PubmedQueryRun(), llm=llm)\n",
        "agent = initialize_agent(tools,\n",
        "                         llm,\n",
        "                         agent=AgentType.ZERO_SHOT_REACT_DESCRIPTION, verbose=True)\n",
        "\n",
        "##Standard LLM Query\n",
        "agent.invoke(\"The most common non communicable disease world wide is?\")"
      ],
      "metadata": {
        "colab": {
          "base_uri": "https://localhost:8080/",
          "height": 349
        },
        "id": "BsXgidT9aMHP",
        "outputId": "f71b36d1-988a-428e-f643-49cc9db0a447"
      },
      "execution_count": 10,
      "outputs": [
        {
          "output_type": "error",
          "ename": "ValueError",
          "evalue": "Got unknown tool ('name', 'pub_med')",
          "traceback": [
            "\u001b[0;31m---------------------------------------------------------------------------\u001b[0m",
            "\u001b[0;31mValueError\u001b[0m                                Traceback (most recent call last)",
            "\u001b[0;32m<ipython-input-10-2b8e4aca74f5>\u001b[0m in \u001b[0;36m<cell line: 9>\u001b[0;34m()\u001b[0m\n\u001b[1;32m      7\u001b[0m \u001b[0;31m#tools = load_tools([\"ddg-search\"],llm=llm)\u001b[0m\u001b[0;34m\u001b[0m\u001b[0;34m\u001b[0m\u001b[0m\n\u001b[1;32m      8\u001b[0m \u001b[0;34m\u001b[0m\u001b[0m\n\u001b[0;32m----> 9\u001b[0;31m \u001b[0mtools\u001b[0m \u001b[0;34m=\u001b[0m \u001b[0mload_tools\u001b[0m\u001b[0;34m(\u001b[0m\u001b[0mPubmedQueryRun\u001b[0m\u001b[0;34m(\u001b[0m\u001b[0;34m)\u001b[0m\u001b[0;34m,\u001b[0m \u001b[0mllm\u001b[0m\u001b[0;34m=\u001b[0m\u001b[0mllm\u001b[0m\u001b[0;34m)\u001b[0m\u001b[0;34m\u001b[0m\u001b[0;34m\u001b[0m\u001b[0m\n\u001b[0m\u001b[1;32m     10\u001b[0m agent = initialize_agent(tools,\n\u001b[1;32m     11\u001b[0m                          \u001b[0mllm\u001b[0m\u001b[0;34m,\u001b[0m\u001b[0;34m\u001b[0m\u001b[0;34m\u001b[0m\u001b[0m\n",
            "\u001b[0;32m/usr/local/lib/python3.10/dist-packages/langchain_community/agent_toolkits/load_tools.py\u001b[0m in \u001b[0;36mload_tools\u001b[0;34m(tool_names, llm, callbacks, allow_dangerous_tools, **kwargs)\u001b[0m\n\u001b[1;32m    727\u001b[0m             \u001b[0mtools\u001b[0m\u001b[0;34m.\u001b[0m\u001b[0mappend\u001b[0m\u001b[0;34m(\u001b[0m\u001b[0mtool\u001b[0m\u001b[0;34m)\u001b[0m\u001b[0;34m\u001b[0m\u001b[0;34m\u001b[0m\u001b[0m\n\u001b[1;32m    728\u001b[0m         \u001b[0;32melse\u001b[0m\u001b[0;34m:\u001b[0m\u001b[0;34m\u001b[0m\u001b[0;34m\u001b[0m\u001b[0m\n\u001b[0;32m--> 729\u001b[0;31m             \u001b[0;32mraise\u001b[0m \u001b[0mValueError\u001b[0m\u001b[0;34m(\u001b[0m\u001b[0;34mf\"Got unknown tool {name}\"\u001b[0m\u001b[0;34m)\u001b[0m\u001b[0;34m\u001b[0m\u001b[0;34m\u001b[0m\u001b[0m\n\u001b[0m\u001b[1;32m    730\u001b[0m     \u001b[0;32mif\u001b[0m \u001b[0mcallbacks\u001b[0m \u001b[0;32mis\u001b[0m \u001b[0;32mnot\u001b[0m \u001b[0;32mNone\u001b[0m\u001b[0;34m:\u001b[0m\u001b[0;34m\u001b[0m\u001b[0;34m\u001b[0m\u001b[0m\n\u001b[1;32m    731\u001b[0m         \u001b[0;32mfor\u001b[0m \u001b[0mtool\u001b[0m \u001b[0;32min\u001b[0m \u001b[0mtools\u001b[0m\u001b[0;34m:\u001b[0m\u001b[0;34m\u001b[0m\u001b[0;34m\u001b[0m\u001b[0m\n",
            "\u001b[0;31mValueError\u001b[0m: Got unknown tool ('name', 'pub_med')"
          ]
        }
      ]
    },
    {
      "cell_type": "code",
      "source": [
        "from langchain.agents import AgentType, initialize_agent, load_tools\n",
        "from langchain_groq import ChatGroq\n",
        "from google.colab import userdata\n",
        "\n",
        "# Retrieve API Key from user data in Google Colab\n",
        "GROQ_API_KEY = userdata.get('GROQ_API_KEY')\n",
        "\n",
        "# Initialize the LLM with the specific model and API key\n",
        "llm = ChatGroq(temperature=0, groq_api_key=GROQ_API_KEY, model_name=\"llama3-70b-8192\")\n",
        "\n",
        "# Load tools: replace 'PubmedQueryRun' with the correct tool name if it's a custom tool or use an existing tool name\n",
        "# If 'PubmedQueryRun' is a custom tool, you need to ensure it is defined and recognized by LangChain\n",
        "# Example using a hypothetical tool name as a string\n",
        "tools = load_tools([\"pubmed_query\"], llm=llm)  # Ensure 'pubmed_query' is a valid tool name\n",
        "\n",
        "# Initialize the agent with the loaded tools\n",
        "agent = initialize_agent(tools, llm, agent=AgentType.ZERO_SHOT_REACT_DESCRIPTION, verbose=True)\n",
        "\n",
        "# Standard LLM Query\n",
        "result = agent.invoke(\"What is the most common non-communicable disease worldwide?\")\n",
        "print(result)"
      ],
      "metadata": {
        "colab": {
          "base_uri": "https://localhost:8080/",
          "height": 349
        },
        "id": "Jh6Xt-EcbYcs",
        "outputId": "eb63f7b6-5592-480c-8c8e-4a5800f822af"
      },
      "execution_count": 11,
      "outputs": [
        {
          "output_type": "error",
          "ename": "ValueError",
          "evalue": "Got unknown tool pubmed_query",
          "traceback": [
            "\u001b[0;31m---------------------------------------------------------------------------\u001b[0m",
            "\u001b[0;31mValueError\u001b[0m                                Traceback (most recent call last)",
            "\u001b[0;32m<ipython-input-11-206b0222095c>\u001b[0m in \u001b[0;36m<cell line: 14>\u001b[0;34m()\u001b[0m\n\u001b[1;32m     12\u001b[0m \u001b[0;31m# If 'PubmedQueryRun' is a custom tool, you need to ensure it is defined and recognized by LangChain\u001b[0m\u001b[0;34m\u001b[0m\u001b[0;34m\u001b[0m\u001b[0m\n\u001b[1;32m     13\u001b[0m \u001b[0;31m# Example using a hypothetical tool name as a string\u001b[0m\u001b[0;34m\u001b[0m\u001b[0;34m\u001b[0m\u001b[0m\n\u001b[0;32m---> 14\u001b[0;31m \u001b[0mtools\u001b[0m \u001b[0;34m=\u001b[0m \u001b[0mload_tools\u001b[0m\u001b[0;34m(\u001b[0m\u001b[0;34m[\u001b[0m\u001b[0;34m\"pubmed_query\"\u001b[0m\u001b[0;34m]\u001b[0m\u001b[0;34m,\u001b[0m \u001b[0mllm\u001b[0m\u001b[0;34m=\u001b[0m\u001b[0mllm\u001b[0m\u001b[0;34m)\u001b[0m  \u001b[0;31m# Ensure 'pubmed_query' is a valid tool name\u001b[0m\u001b[0;34m\u001b[0m\u001b[0;34m\u001b[0m\u001b[0m\n\u001b[0m\u001b[1;32m     15\u001b[0m \u001b[0;34m\u001b[0m\u001b[0m\n\u001b[1;32m     16\u001b[0m \u001b[0;31m# Initialize the agent with the loaded tools\u001b[0m\u001b[0;34m\u001b[0m\u001b[0;34m\u001b[0m\u001b[0m\n",
            "\u001b[0;32m/usr/local/lib/python3.10/dist-packages/langchain_community/agent_toolkits/load_tools.py\u001b[0m in \u001b[0;36mload_tools\u001b[0;34m(tool_names, llm, callbacks, allow_dangerous_tools, **kwargs)\u001b[0m\n\u001b[1;32m    727\u001b[0m             \u001b[0mtools\u001b[0m\u001b[0;34m.\u001b[0m\u001b[0mappend\u001b[0m\u001b[0;34m(\u001b[0m\u001b[0mtool\u001b[0m\u001b[0;34m)\u001b[0m\u001b[0;34m\u001b[0m\u001b[0;34m\u001b[0m\u001b[0m\n\u001b[1;32m    728\u001b[0m         \u001b[0;32melse\u001b[0m\u001b[0;34m:\u001b[0m\u001b[0;34m\u001b[0m\u001b[0;34m\u001b[0m\u001b[0m\n\u001b[0;32m--> 729\u001b[0;31m             \u001b[0;32mraise\u001b[0m \u001b[0mValueError\u001b[0m\u001b[0;34m(\u001b[0m\u001b[0;34mf\"Got unknown tool {name}\"\u001b[0m\u001b[0;34m)\u001b[0m\u001b[0;34m\u001b[0m\u001b[0;34m\u001b[0m\u001b[0m\n\u001b[0m\u001b[1;32m    730\u001b[0m     \u001b[0;32mif\u001b[0m \u001b[0mcallbacks\u001b[0m \u001b[0;32mis\u001b[0m \u001b[0;32mnot\u001b[0m \u001b[0;32mNone\u001b[0m\u001b[0;34m:\u001b[0m\u001b[0;34m\u001b[0m\u001b[0;34m\u001b[0m\u001b[0m\n\u001b[1;32m    731\u001b[0m         \u001b[0;32mfor\u001b[0m \u001b[0mtool\u001b[0m \u001b[0;32min\u001b[0m \u001b[0mtools\u001b[0m\u001b[0;34m:\u001b[0m\u001b[0;34m\u001b[0m\u001b[0;34m\u001b[0m\u001b[0m\n",
            "\u001b[0;31mValueError\u001b[0m: Got unknown tool pubmed_query"
          ]
        }
      ]
    },
    {
      "cell_type": "code",
      "source": [
        "from langchain.agents import initialize_agent, Tool\n",
        "from langchain.utilities import PubMedQueryTool\n",
        "\n",
        "# Initialize the PubMedQueryTool\n",
        "pubmed_query_tool = PubMedQueryTool()\n",
        "\n",
        "# Create a list of tools for the agent\n",
        "tools = [\n",
        "    Tool(\n",
        "        name=\"PubMed Search\",\n",
        "        func=pubmed_query_tool.run,\n",
        "        description=\"Search the PubMed database for biomedical literature relevant to the query. The input should be a search query, and the output will be a list of relevant PubMed article metadata.\"\n",
        "    )\n",
        "]\n",
        "\n",
        "# Initialize the agent with the tools\n",
        "agent = initialize_agent(tools, llm, agent=\"zero-shot-react-description\", verbose=True)\n",
        "\n",
        "query = \"What are the latest studies on the effects of vitamin D on COVID-19 outcomes?\"\n",
        "result = agent.run(query)\n",
        "print(result)"
      ],
      "metadata": {
        "colab": {
          "base_uri": "https://localhost:8080/",
          "height": 384
        },
        "id": "tNylpZMsc8Wc",
        "outputId": "7cebbf5a-bd74-4737-dd82-5498417b32b4"
      },
      "execution_count": 12,
      "outputs": [
        {
          "output_type": "error",
          "ename": "ImportError",
          "evalue": "cannot import name 'PubMedQueryTool' from 'langchain.utilities' (/usr/local/lib/python3.10/dist-packages/langchain/utilities/__init__.py)",
          "traceback": [
            "\u001b[0;31m---------------------------------------------------------------------------\u001b[0m",
            "\u001b[0;31mImportError\u001b[0m                               Traceback (most recent call last)",
            "\u001b[0;32m<ipython-input-12-bff1e29cf0ba>\u001b[0m in \u001b[0;36m<cell line: 2>\u001b[0;34m()\u001b[0m\n\u001b[1;32m      1\u001b[0m \u001b[0;32mfrom\u001b[0m \u001b[0mlangchain\u001b[0m\u001b[0;34m.\u001b[0m\u001b[0magents\u001b[0m \u001b[0;32mimport\u001b[0m \u001b[0minitialize_agent\u001b[0m\u001b[0;34m,\u001b[0m \u001b[0mTool\u001b[0m\u001b[0;34m\u001b[0m\u001b[0;34m\u001b[0m\u001b[0m\n\u001b[0;32m----> 2\u001b[0;31m \u001b[0;32mfrom\u001b[0m \u001b[0mlangchain\u001b[0m\u001b[0;34m.\u001b[0m\u001b[0mutilities\u001b[0m \u001b[0;32mimport\u001b[0m \u001b[0mPubMedQueryTool\u001b[0m\u001b[0;34m\u001b[0m\u001b[0;34m\u001b[0m\u001b[0m\n\u001b[0m\u001b[1;32m      3\u001b[0m \u001b[0;34m\u001b[0m\u001b[0m\n\u001b[1;32m      4\u001b[0m \u001b[0;31m# Initialize the PubMedQueryTool\u001b[0m\u001b[0;34m\u001b[0m\u001b[0;34m\u001b[0m\u001b[0m\n\u001b[1;32m      5\u001b[0m \u001b[0mpubmed_query_tool\u001b[0m \u001b[0;34m=\u001b[0m \u001b[0mPubMedQueryTool\u001b[0m\u001b[0;34m(\u001b[0m\u001b[0;34m)\u001b[0m\u001b[0;34m\u001b[0m\u001b[0;34m\u001b[0m\u001b[0m\n",
            "\u001b[0;31mImportError\u001b[0m: cannot import name 'PubMedQueryTool' from 'langchain.utilities' (/usr/local/lib/python3.10/dist-packages/langchain/utilities/__init__.py)",
            "",
            "\u001b[0;31m---------------------------------------------------------------------------\u001b[0;32m\nNOTE: If your import is failing due to a missing package, you can\nmanually install dependencies using either !pip or !apt.\n\nTo view examples of installing some common dependencies, click the\n\"Open Examples\" button below.\n\u001b[0;31m---------------------------------------------------------------------------\u001b[0m\n"
          ],
          "errorDetails": {
            "actions": [
              {
                "action": "open_url",
                "actionText": "Open Examples",
                "url": "/notebooks/snippets/importing_libraries.ipynb"
              }
            ]
          }
        }
      ]
    },
    {
      "cell_type": "code",
      "source": [
        "!pip -q install duckduckgo-search"
      ],
      "metadata": {
        "colab": {
          "base_uri": "https://localhost:8080/"
        },
        "id": "UQgrltNOfuVW",
        "outputId": "fa127512-12aa-494a-f965-d0d5113c1f2d"
      },
      "execution_count": 17,
      "outputs": [
        {
          "output_type": "stream",
          "name": "stdout",
          "text": [
            "\u001b[2K     \u001b[90m━━━━━━━━━━━━━━━━━━━━━━━━━━━━━━━━━━━━━━━━\u001b[0m \u001b[32m2.7/2.7 MB\u001b[0m \u001b[31m12.7 MB/s\u001b[0m eta \u001b[36m0:00:00\u001b[0m\n",
            "\u001b[?25h"
          ]
        }
      ]
    },
    {
      "cell_type": "code",
      "source": [
        "from langchain.llms import OpenAI\n",
        "from langchain_community.tools.pubmed.tool import PubmedQueryRun\n",
        "from langchain.agents import initialize_agent\n",
        "\n",
        "# Initialize the LLM with the specific model and API key\n",
        "llm = ChatGroq(temperature=0, groq_api_key=GROQ_API_KEY, model_name=\"llama3-70b-8192\")\n",
        "\n",
        "# Create a list of tools\n",
        "#tools = [PubmedQueryRun()]\n",
        "tools = load_tools([\"ddg-search\"],llm=llm)\n",
        "# Initialize the agent\n",
        "agent = initialize_agent(tools, llm, agent = AgentType.ZERO_SHOT_REACT_DESCRIPTION, verbose=True)\n",
        "#agent = initialize_agent(tools, llm, agent=\"zero-shot-react-description\", verbose=True)\n",
        "\n",
        "# Use the agent\n",
        "query = \"Rukmini is attending the village health nutrition and sanitation day awareness program. How frequently the programme is conducted?\tAnganwadi centres every fortnightly\tAnganwadi centres Once every month\tSub centres by ANM once every month\tSub centres by ANM once every 6 month\"\n",
        "result = agent.run(query)\n",
        "print(result)"
      ],
      "metadata": {
        "colab": {
          "base_uri": "https://localhost:8080/"
        },
        "id": "o9yt9SIYd0YD",
        "outputId": "63ebc59f-93f4-4fe8-d047-cee67c2c39dd"
      },
      "execution_count": 18,
      "outputs": [
        {
          "output_type": "stream",
          "name": "stdout",
          "text": [
            "\n",
            "\n",
            "\u001b[1m> Entering new AgentExecutor chain...\u001b[0m\n",
            "\u001b[32;1m\u001b[1;3mThought: I need to find information about the frequency of the village health nutrition and sanitation day awareness program.\n",
            "\n",
            "Action: duckduckgo_search\n",
            "Action Input: \"village health nutrition and sanitation day awareness program frequency\"\n",
            "\u001b[0m\n",
            "Observation: \u001b[36;1m\u001b[1;3mASHA residing in the village shall be the member secretary and convener of the committee. Roles and Responsibilities . Create awareness about nutritional issues and significance of nutrition as an important determinant of health. Carry out survey on nutritional status and nutritional deficiencies in the village especially among women and children. Background: Village Health, Sanitation and Nutrition Day (VHSND), a community platform bringing health, early childhood development, nutrition and sanitation services to doorstep of population and promoting community engagement. COVID-19 pandemic affected health system in different ways. Aim and Objective: To assess the process of VHSND implementation in Assam during post pandemic period. Village Health Sanitation & Nutrition Committee; About Accredited Social Health Activist (ASHA) Village Health Nutrition Day; Rogi Kalyan Samities; Resources. Reports & Publications. Presentations; NHM Guidelines; Rural Health Statistics (RHS) 12th Five Year Plan & HLEG; CPHC & UHC; OM & Orders. India COVID-19 ER&HSP Package; COVID-19; EPC/MSG/CRM Pulse Polio Immunization Program ; ART and Surrogacy; National Urban Health Mission (NUHM) Female Health Worker Training School (FHWST) ... Village Health Sanitation and Nutrition Day (VHSND) Report 15.01.2024. District wise reported VHSND sessions. SL. NO. DISTRICT: TOTAL REPORTED VHSND SESSIONS: 1: IMPHAL WEST: 2595: 2: IMPHAL EAST: DOI: 10.47203/ijch.2024.v36i02.015 Corpus ID: 269842932; Supportive supervision of village, health, sanitation and nutrition day (VHSND) during post-pandemic period in Assam @article{Mahanta2024SupportiveSO, title={Supportive supervision of village, health, sanitation and nutrition day (VHSND) during post-pandemic period in Assam}, author={Tulika Goswami Mahanta and Mridushman Saikia and ...\u001b[0m\n",
            "Thought:\u001b[32;1m\u001b[1;3mThought: It seems like the search results are providing information about the Village Health Sanitation and Nutrition Day (VHSND) program, but I still need to find the frequency of the program.\n",
            "\n",
            "Action: duckduckgo_search\n",
            "Action Input: \"village health sanitation and nutrition day frequency\"\n",
            "\u001b[0m\n",
            "Observation: \u001b[36;1m\u001b[1;3mMinistry of Health & Family Welfare-Government of India Background: Village Health, Sanitation and Nutrition Day (VHSND), a community platform bringing health, early childhood development, nutrition and sanitation services to doorstep of population and promoting community engagement. COVID-19 pandemic affected health system in different ways. Notable progress could be documented in logistical readiness and ANM knowledge in different quarters in post-pandemic period in Assam, where service delivery and ANM counselling efforts have seen improvement. Background: VHSND, a community platform bringing health, early childhood development, nutrition, and sanitation services by community engagement was affected by COVID-19 pandemic. Aims ... Village Health Sanitization and Nutrition Committee (VHS-NC) . VHSND is being implemented across the country since 2007 as a community platform, connecting the community and health systems and facilitating convergent actions. It attempts to bring health, early childhood development, nutrition and sanitation services to the doorstep and promote community engagement for improved health and wellbeing.\u001b[0m\n",
            "Thought:\u001b[32;1m\u001b[1;3mThought: It seems like the search results are providing more information about the Village Health Sanitation and Nutrition Day (VHSND) program, but I still need to find the frequency of the program.\n",
            "\n",
            "Action: duckduckgo_search\n",
            "Action Input: \"village health sanitation and nutrition day frequency india\"\n",
            "\u001b[0m\n",
            "Observation: \u001b[36;1m\u001b[1;3mMonitoring and Supervision of Village Health and Nutrition Day to ensure that it is organized every month in the village with the active participation of the whole village. Facilitate early detection of malnourished children in the community; tie up referral to the nearest Nutritional Rehabilitation Centre (NRC) as well as follow up for ... Saxena V, Kumar P, Kumari R, Nath B, Pal R. Availability of Village Health and Nutrition Day services in Uttarakhand, India. J Fam Med Prim Care. 2015;4(2):251-6. Sharma N, Sharma M, Jagtap D, Deshmukh A, Hegde S, Kumar A. Revamping village health sanitation and nutrition days for improved delivery of maternal and child health services at ... Village Health Sanitation & Nutrition Committee; About Accredited Social Health Activist (ASHA) Village Health Nutrition Day; Rogi Kalyan Samities; Resources. Reports & Publications. Presentations; NHM Guidelines; Rural Health Statistics (RHS) 12th Five Year Plan & HLEG; CPHC & UHC; OM & Orders. India COVID-19 ER&HSP Package; COVID-19; EPC/MSG/CRM Mahanta TG, Saikia M, Baruah S, Ronghangpi P. Supportive supervision of village, health, sanitation and nutrition day (VHSND) during post-pandemic period in Assam. Indian J Comm Health. DOI: 10.47203/ijch.2024.v36i02.015 Corpus ID: 269842932; Supportive supervision of village, health, sanitation and nutrition day (VHSND) during post-pandemic period in Assam @article{Mahanta2024SupportiveSO, title={Supportive supervision of village, health, sanitation and nutrition day (VHSND) during post-pandemic period in Assam}, author={Tulika Goswami Mahanta and Mridushman Saikia and ...\u001b[0m\n",
            "Thought:\u001b[32;1m\u001b[1;3mThought: I think I finally found the answer.\n",
            "\n",
            "Action: None\n",
            "Action Input: None\u001b[0m\n",
            "Observation: None is not a valid tool, try one of [duckduckgo_search].\n",
            "Thought:\u001b[32;1m\u001b[1;3mThought: I finally found the answer.\n",
            "\n",
            "Final Answer: The Village Health Nutrition and Sanitation Day awareness program is conducted once every month.\u001b[0m\n",
            "\n",
            "\u001b[1m> Finished chain.\u001b[0m\n",
            "The Village Health Nutrition and Sanitation Day awareness program is conducted once every month.\n"
          ]
        }
      ]
    },
    {
      "cell_type": "markdown",
      "source": [
        "#providing json data and getting reconfigured data"
      ],
      "metadata": {
        "id": "cU-ADtZSgMqv"
      }
    },
    {
      "cell_type": "code",
      "source": [
        "from langchain_core.prompts import ChatPromptTemplate\n",
        "from langchain_groq import ChatGroq\n",
        "from typing import List\n",
        "from pydantic import BaseModel, Field, model_validator\n",
        "from langchain.output_parsers import PydanticOutputParser\n",
        "from langchain.prompts import PromptTemplate"
      ],
      "metadata": {
        "id": "OKQijnBAhIPg"
      },
      "execution_count": 76,
      "outputs": []
    },
    {
      "cell_type": "code",
      "source": [
        "class MedicalMCQ(BaseModel):\n",
        "    question: str = Field(description=\"The medical multiple-choice question.\")\n",
        "    options: List[str] = Field(description=\"List of answer options for the MCQ\")\n",
        "    correct_option: int = Field(description=\"Index of the correct answer option, zero-indexed.\")\n",
        "    explanation: str = Field(description=\"Explanation or additional context related to the question\")\n",
        "\n",
        "    @staticmethod\n",
        "    def clean_options(v):\n",
        "        return [opt.lstrip(\"ABCD. \").strip() for opt in v]\n",
        "\n",
        "class MedicalMCQs(BaseModel):\n",
        "    mcqs: List[MedicalMCQ] = Field(description=\"A list of medical multiple-choice questions.\")\n",
        "\n",
        "# Initialize the parser for the MedicalMCQs model\n",
        "mcqs_parser = PydanticOutputParser(pydantic_object=MedicalMCQs)"
      ],
      "metadata": {
        "id": "u1DI1MlBhaCI"
      },
      "execution_count": 89,
      "outputs": []
    },
    {
      "cell_type": "code",
      "source": [
        "# Set up additional parameters if possible\n",
        "model_parameters = {#\"max_tokens\": 1024,  # Setting a large enough limit to handle verbose medical questions\n",
        "                \"temperature\": 0.1,  # Keeping the output deterministic\n",
        "            }\n",
        "model = ChatGroq(**model_parameters, groq_api_key=GROQ_API_KEY, model_name=\"mixtral-8x7b-32768\")\n",
        "                 #model_name=\"llama3-70b-8192\")\n",
        "\n",
        "# Modify the prompt template for handling multiple entries\n",
        "mcqs_prompt = PromptTemplate(\n",
        "        template=\"\"\"\n",
        "                Steps to perform -\n",
        "                Step1. Please extract all medical multiple-choice questions (MCQs) from the following text. Each MCQ should include:\n",
        "                - The question text,\n",
        "                - A list of answer options labeled as 'a)', 'b)', 'c)', and 'd)' and remove a) or (a) or A. or [A] and any kind of initials just keep options text,\n",
        "                - The correct option index, and\n",
        "                - A complete explanation that continues until just before the next question starts or until the text explicitly signals the conclusion of the explanation.\n",
        "                Step2. Get Question, options and correct-option and Explanation.\n",
        "                Step3. If there is mentioning of image, keep the context of image. Will put image later seperately.\n",
        "                Step4. Alter the question and explanation.\n",
        "                Step5. Satisfy the instructions as per mcqs_parser.\n",
        "                Step6. Recheck that the context of whole question remains same.\n",
        "                Example1. (For non image-type question) -\n",
        "                INPUT - Which of the following will be the most effective contraception in a female with hypertension and a history of gestational diabetes mellitus?\n",
        "                a)\tOral contraceptives\n",
        "                b)\tIntra uterine device\n",
        "                c)\tBarrier methods\n",
        "                d)\tDMPA injection\n",
        "                Answer: Intra uterine device\n",
        "                Intrauterine devices are the most effective contraceptive choice in patients with gestational diabetes mellitus and hypertension.\n",
        "                It is suitable in patients with diabetes and comorbidities like obesity, hypertension, or dyslipidemia. It is a method without potential cardiovascular consequences, unlike hormonal contraceptives.\n",
        "                OUTPUT -\n",
        "                Which contraceptive method is most suitable for a woman with hypertension and a history of gestational diabetes mellitus?\n",
        "                a) Oral contraceptives\n",
        "                b) Intrauterine device (IUD)\n",
        "                c) Barrier methods\n",
        "                d) Depo-Medroxyprogesterone Acetate (DMPA) injection\n",
        "                Answer: b) Intrauterine device (IUD)\n",
        "                Intrauterine devices (IUDs) are the recommended choice of contraception for women who have experienced gestational diabetes mellitus and who also suffer from hypertension. This recommendation is based on the IUD's high effectiveness and safety profile in women with these conditions. IUDs do not carry the risk of cardiovascular side effects that can be associated with certain hormonal contraceptive methods, making them a preferable option for patients who also have issues like obesity, hypertension, or dyslipidemia.\n",
        "                Example2. (For image-type question) -\n",
        "                [INPUT]\n",
        "                What procedure is the following device most suitable for?\n",
        "                a)\tHead and neck surgery\n",
        "                b)\tNasal surgery\n",
        "                c)\tLaryngeal surgery\n",
        "                d)\tThoracic surgery\n",
        "                Answer: Nasal surgery\n",
        "                The device shown in the image is the south oral Ring-Adair- Elwyn (RAE) endotracheal tube.\n",
        "                It is preferred for nasal and ophthalmic surgeries because it has a preformed right-angle bend at the level of the teeth so that it does not disrupt the surgical field.\n",
        "                [OUTPUT]\n",
        "                For which surgical procedure is the device depicted in the provided image most appropriately used?\n",
        "                a) Head and neck surgery\n",
        "                b) Nasal surgery\n",
        "                c) Laryngeal surgery\n",
        "                d) Thoracic surgery\n",
        "                Answer: b) Nasal surgery\n",
        "                Explanation:\n",
        "                The device in the image is the south oral Ring-Adair-Elwyn (RAE) endotracheal tube, which is particularly advantageous for nasal and ophthalmic surgeries. Its design includes a preformed right-angle bend at the level of the teeth, which helps keep the surgical field clear and unobstructed.\n",
        "                \\n{format_instructions}\\n{query}\\n\n",
        "                \"\"\",\n",
        "                input_variables=[\"query\"],\n",
        "                partial_variables={\"format_instructions\": mcqs_parser.get_format_instructions()},\n",
        "            )\n",
        "\n",
        "# Initialize the chain\n",
        "chain = mcqs_prompt | model | mcqs_parser\n",
        "\n"
      ],
      "metadata": {
        "id": "pW5qHyZqeSWy"
      },
      "execution_count": 90,
      "outputs": []
    },
    {
      "cell_type": "code",
      "source": [
        "chain"
      ],
      "metadata": {
        "colab": {
          "base_uri": "https://localhost:8080/"
        },
        "id": "KlRTzeaBk84o",
        "outputId": "668d2958-deb3-4341-a4a3-ac17ac39ed2e"
      },
      "execution_count": 91,
      "outputs": [
        {
          "output_type": "execute_result",
          "data": {
            "text/plain": [
              "PromptTemplate(input_variables=['query'], partial_variables={'format_instructions': 'The output should be formatted as a JSON instance that conforms to the JSON schema below.\\n\\nAs an example, for the schema {\"properties\": {\"foo\": {\"title\": \"Foo\", \"description\": \"a list of strings\", \"type\": \"array\", \"items\": {\"type\": \"string\"}}}, \"required\": [\"foo\"]}\\nthe object {\"foo\": [\"bar\", \"baz\"]} is a well-formatted instance of the schema. The object {\"properties\": {\"foo\": [\"bar\", \"baz\"]}} is not well-formatted.\\n\\nHere is the output schema:\\n```\\n{\"$defs\": {\"MedicalMCQ\": {\"properties\": {\"question\": {\"description\": \"The medical multiple-choice question.\", \"title\": \"Question\", \"type\": \"string\"}, \"options\": {\"description\": \"List of answer options for the MCQ\", \"items\": {\"type\": \"string\"}, \"title\": \"Options\", \"type\": \"array\"}, \"correct_option\": {\"description\": \"Index of the correct answer option, zero-indexed.\", \"title\": \"Correct Option\", \"type\": \"integer\"}, \"explanation\": {\"description\": \"Explanation or additional context related to the question\", \"title\": \"Explanation\", \"type\": \"string\"}}, \"required\": [\"question\", \"options\", \"correct_option\", \"explanation\"], \"title\": \"MedicalMCQ\", \"type\": \"object\"}}, \"properties\": {\"mcqs\": {\"description\": \"A list of medical multiple-choice questions.\", \"items\": {\"$ref\": \"#/$defs/MedicalMCQ\"}, \"title\": \"Mcqs\", \"type\": \"array\"}}, \"required\": [\"mcqs\"]}\\n```'}, template=\"\\n                Steps to perform - \\n                Step1. Please extract all medical multiple-choice questions (MCQs) from the following text. Each MCQ should include:\\n                - The question text,\\n                - A list of answer options labeled as 'a)', 'b)', 'c)', and 'd)' and remove a) or (a) or A. or [A] and any kind of initials just keep options text,\\n                - The correct option index, and\\n                - A complete explanation that continues until just before the next question starts or until the text explicitly signals the conclusion of the explanation.\\n                Step2. Get Question, options and correct-option and Explanation.\\n                Step3. If there is mentioning of image, keep the context of image. Will put image later seperately.\\n                Step4. Alter the question and explanation.\\n                Step5. Satisfy the instructions as per mcqs_parser.\\n                Step6. Recheck that the context of whole question remains same.\\n                Example1. (For non image-type question) - \\n                INPUT - Which of the following will be the most effective contraception in a female with hypertension and a history of gestational diabetes mellitus?\\n                a)\\tOral contraceptives\\n                b)\\tIntra uterine device\\n                c)\\tBarrier methods\\n                d)\\tDMPA injection\\n                Answer: Intra uterine device\\n                Intrauterine devices are the most effective contraceptive choice in patients with gestational diabetes mellitus and hypertension.\\n                It is suitable in patients with diabetes and comorbidities like obesity, hypertension, or dyslipidemia. It is a method without potential cardiovascular consequences, unlike hormonal contraceptives.\\n                OUTPUT -\\n                Which contraceptive method is most suitable for a woman with hypertension and a history of gestational diabetes mellitus?\\n                a) Oral contraceptives\\n                b) Intrauterine device (IUD)\\n                c) Barrier methods\\n                d) Depo-Medroxyprogesterone Acetate (DMPA) injection\\n                Answer: b) Intrauterine device (IUD)\\n                Intrauterine devices (IUDs) are the recommended choice of contraception for women who have experienced gestational diabetes mellitus and who also suffer from hypertension. This recommendation is based on the IUD's high effectiveness and safety profile in women with these conditions. IUDs do not carry the risk of cardiovascular side effects that can be associated with certain hormonal contraceptive methods, making them a preferable option for patients who also have issues like obesity, hypertension, or dyslipidemia.\\n                Example2. (For image-type question) - \\n                [INPUT]\\n                What procedure is the following device most suitable for? \\n                a)\\tHead and neck surgery\\n                b)\\tNasal surgery\\n                c)\\tLaryngeal surgery\\n                d)\\tThoracic surgery\\n                Answer: Nasal surgery\\n                The device shown in the image is the south oral Ring-Adair- Elwyn (RAE) endotracheal tube.\\n                It is preferred for nasal and ophthalmic surgeries because it has a preformed right-angle bend at the level of the teeth so that it does not disrupt the surgical field.\\n                [OUTPUT]\\n                For which surgical procedure is the device depicted in the provided image most appropriately used?\\n                a) Head and neck surgery\\n                b) Nasal surgery\\n                c) Laryngeal surgery\\n                d) Thoracic surgery\\n                Answer: b) Nasal surgery\\n                Explanation:\\n                The device in the image is the south oral Ring-Adair-Elwyn (RAE) endotracheal tube, which is particularly advantageous for nasal and ophthalmic surgeries. Its design includes a preformed right-angle bend at the level of the teeth, which helps keep the surgical field clear and unobstructed.\\n                \\n{format_instructions}\\n{query}\\n\\n                \")\n",
              "| ChatGroq(client=<groq.resources.chat.completions.Completions object at 0x7b60301efc70>, async_client=<groq.resources.chat.completions.AsyncCompletions object at 0x7b6030252080>, temperature=0.1, groq_api_key=SecretStr('**********'))\n",
              "| PydanticOutputParser(pydantic_object=<class '__main__.MedicalMCQs'>)"
            ]
          },
          "metadata": {},
          "execution_count": 91
        }
      ]
    },
    {
      "cell_type": "code",
      "source": [
        "# Invoke the chain with the unformatted text as input\n",
        "user_input = \"13060\tThe most common non communicable disease world wide is?\tHypertension\tAtrio- ventricular septal defect\tCardiomyopathy\tAtrial fibrillation\tA\tHypertension is the most common non-communicable disease worldwide, affecting approximately 1 billion people globally.\"\n",
        "extracted_mcqs = chain.invoke({\"query\": user_input})"
      ],
      "metadata": {
        "colab": {
          "base_uri": "https://localhost:8080/",
          "height": 599
        },
        "id": "4vtrtkGcj6dW",
        "outputId": "4413ef8d-1695-464f-d2c8-0e5c8f87b715"
      },
      "execution_count": 92,
      "outputs": [
        {
          "output_type": "error",
          "ename": "OutputParserException",
          "evalue": "Failed to parse MedicalMCQs from completion [{\"mcqs\": [{\"question\": \"What is the most common non-communicable disease worldwide?\", \"options\": [\"Hypertension\", \"Atrio-ventricular septal defect\", \"Cardiomyopathy\", \"Atrial fibrillation\"], \"correct_option\": 0, \"explanation\": \"Hypertension, also known as high blood pressure, is the most common non-communicable disease worldwide. It affects approximately 1 billion people globally. It is a long-term medical condition in which the blood pressure in the arteries is persistently elevated. Hypertension is a major cause of premature death and disability, and it is also a significant risk factor for many other serious health conditions, such as heart disease, stroke, and kidney disease.\"}]}]. Got: 1 validation error for MedicalMCQs\n  Input should be a valid dictionary or instance of MedicalMCQs [type=model_type, input_value=[{'mcqs': [{'question': '...and kidney disease.'}]}], input_type=list]\n    For further information visit https://errors.pydantic.dev/2.7/v/model_type",
          "traceback": [
            "\u001b[0;31m---------------------------------------------------------------------------\u001b[0m",
            "\u001b[0;31mValidationError\u001b[0m                           Traceback (most recent call last)",
            "\u001b[0;32m/usr/local/lib/python3.10/dist-packages/langchain_core/output_parsers/pydantic.py\u001b[0m in \u001b[0;36m_parse_obj\u001b[0;34m(self, obj)\u001b[0m\n\u001b[1;32m     32\u001b[0m                 \u001b[0;32mif\u001b[0m \u001b[0missubclass\u001b[0m\u001b[0;34m(\u001b[0m\u001b[0mself\u001b[0m\u001b[0;34m.\u001b[0m\u001b[0mpydantic_object\u001b[0m\u001b[0;34m,\u001b[0m \u001b[0mpydantic\u001b[0m\u001b[0;34m.\u001b[0m\u001b[0mBaseModel\u001b[0m\u001b[0;34m)\u001b[0m\u001b[0;34m:\u001b[0m\u001b[0;34m\u001b[0m\u001b[0;34m\u001b[0m\u001b[0m\n\u001b[0;32m---> 33\u001b[0;31m                     \u001b[0;32mreturn\u001b[0m \u001b[0mself\u001b[0m\u001b[0;34m.\u001b[0m\u001b[0mpydantic_object\u001b[0m\u001b[0;34m.\u001b[0m\u001b[0mmodel_validate\u001b[0m\u001b[0;34m(\u001b[0m\u001b[0mobj\u001b[0m\u001b[0;34m)\u001b[0m\u001b[0;34m\u001b[0m\u001b[0;34m\u001b[0m\u001b[0m\n\u001b[0m\u001b[1;32m     34\u001b[0m                 \u001b[0;32melif\u001b[0m \u001b[0missubclass\u001b[0m\u001b[0;34m(\u001b[0m\u001b[0mself\u001b[0m\u001b[0;34m.\u001b[0m\u001b[0mpydantic_object\u001b[0m\u001b[0;34m,\u001b[0m \u001b[0mpydantic\u001b[0m\u001b[0;34m.\u001b[0m\u001b[0mv1\u001b[0m\u001b[0;34m.\u001b[0m\u001b[0mBaseModel\u001b[0m\u001b[0;34m)\u001b[0m\u001b[0;34m:\u001b[0m\u001b[0;34m\u001b[0m\u001b[0;34m\u001b[0m\u001b[0m\n",
            "\u001b[0;32m/usr/local/lib/python3.10/dist-packages/pydantic/main.py\u001b[0m in \u001b[0;36mmodel_validate\u001b[0;34m(cls, obj, strict, from_attributes, context)\u001b[0m\n\u001b[1;32m    550\u001b[0m         \u001b[0m__tracebackhide__\u001b[0m \u001b[0;34m=\u001b[0m \u001b[0;32mTrue\u001b[0m\u001b[0;34m\u001b[0m\u001b[0;34m\u001b[0m\u001b[0m\n\u001b[0;32m--> 551\u001b[0;31m         return cls.__pydantic_validator__.validate_python(\n\u001b[0m\u001b[1;32m    552\u001b[0m             \u001b[0mobj\u001b[0m\u001b[0;34m,\u001b[0m \u001b[0mstrict\u001b[0m\u001b[0;34m=\u001b[0m\u001b[0mstrict\u001b[0m\u001b[0;34m,\u001b[0m \u001b[0mfrom_attributes\u001b[0m\u001b[0;34m=\u001b[0m\u001b[0mfrom_attributes\u001b[0m\u001b[0;34m,\u001b[0m \u001b[0mcontext\u001b[0m\u001b[0;34m=\u001b[0m\u001b[0mcontext\u001b[0m\u001b[0;34m\u001b[0m\u001b[0;34m\u001b[0m\u001b[0m\n",
            "\u001b[0;31mValidationError\u001b[0m: 1 validation error for MedicalMCQs\n  Input should be a valid dictionary or instance of MedicalMCQs [type=model_type, input_value=[{'mcqs': [{'question': '...and kidney disease.'}]}], input_type=list]\n    For further information visit https://errors.pydantic.dev/2.7/v/model_type",
            "\nDuring handling of the above exception, another exception occurred:\n",
            "\u001b[0;31mOutputParserException\u001b[0m                     Traceback (most recent call last)",
            "\u001b[0;32m<ipython-input-92-178c5b07e0c2>\u001b[0m in \u001b[0;36m<cell line: 3>\u001b[0;34m()\u001b[0m\n\u001b[1;32m      1\u001b[0m \u001b[0;31m# Invoke the chain with the unformatted text as input\u001b[0m\u001b[0;34m\u001b[0m\u001b[0;34m\u001b[0m\u001b[0m\n\u001b[1;32m      2\u001b[0m \u001b[0muser_input\u001b[0m \u001b[0;34m=\u001b[0m \u001b[0;34m\"13060     The most common non communicable disease world wide is? Hypertension    Atrio- ventricular septal defect        Cardiomyopathy  Atrial fibrillation     A       Hypertension is the most common non-communicable disease worldwide, affecting approximately 1 billion people globally.\"\u001b[0m\u001b[0;34m\u001b[0m\u001b[0;34m\u001b[0m\u001b[0m\n\u001b[0;32m----> 3\u001b[0;31m \u001b[0mextracted_mcqs\u001b[0m \u001b[0;34m=\u001b[0m \u001b[0mchain\u001b[0m\u001b[0;34m.\u001b[0m\u001b[0minvoke\u001b[0m\u001b[0;34m(\u001b[0m\u001b[0;34m{\u001b[0m\u001b[0;34m\"query\"\u001b[0m\u001b[0;34m:\u001b[0m \u001b[0muser_input\u001b[0m\u001b[0;34m}\u001b[0m\u001b[0;34m)\u001b[0m\u001b[0;34m\u001b[0m\u001b[0;34m\u001b[0m\u001b[0m\n\u001b[0m",
            "\u001b[0;32m/usr/local/lib/python3.10/dist-packages/langchain_core/runnables/base.py\u001b[0m in \u001b[0;36minvoke\u001b[0;34m(self, input, config)\u001b[0m\n\u001b[1;32m   2391\u001b[0m         \u001b[0;32mtry\u001b[0m\u001b[0;34m:\u001b[0m\u001b[0;34m\u001b[0m\u001b[0;34m\u001b[0m\u001b[0m\n\u001b[1;32m   2392\u001b[0m             \u001b[0;32mfor\u001b[0m \u001b[0mi\u001b[0m\u001b[0;34m,\u001b[0m \u001b[0mstep\u001b[0m \u001b[0;32min\u001b[0m \u001b[0menumerate\u001b[0m\u001b[0;34m(\u001b[0m\u001b[0mself\u001b[0m\u001b[0;34m.\u001b[0m\u001b[0msteps\u001b[0m\u001b[0;34m)\u001b[0m\u001b[0;34m:\u001b[0m\u001b[0;34m\u001b[0m\u001b[0;34m\u001b[0m\u001b[0m\n\u001b[0;32m-> 2393\u001b[0;31m                 input = step.invoke(\n\u001b[0m\u001b[1;32m   2394\u001b[0m                     \u001b[0minput\u001b[0m\u001b[0;34m,\u001b[0m\u001b[0;34m\u001b[0m\u001b[0;34m\u001b[0m\u001b[0m\n\u001b[1;32m   2395\u001b[0m                     \u001b[0;31m# mark each step as a child run\u001b[0m\u001b[0;34m\u001b[0m\u001b[0;34m\u001b[0m\u001b[0m\n",
            "\u001b[0;32m/usr/local/lib/python3.10/dist-packages/langchain_core/output_parsers/base.py\u001b[0m in \u001b[0;36minvoke\u001b[0;34m(self, input, config)\u001b[0m\n\u001b[1;32m    167\u001b[0m     ) -> T:\n\u001b[1;32m    168\u001b[0m         \u001b[0;32mif\u001b[0m \u001b[0misinstance\u001b[0m\u001b[0;34m(\u001b[0m\u001b[0minput\u001b[0m\u001b[0;34m,\u001b[0m \u001b[0mBaseMessage\u001b[0m\u001b[0;34m)\u001b[0m\u001b[0;34m:\u001b[0m\u001b[0;34m\u001b[0m\u001b[0;34m\u001b[0m\u001b[0m\n\u001b[0;32m--> 169\u001b[0;31m             return self._call_with_config(\n\u001b[0m\u001b[1;32m    170\u001b[0m                 lambda inner_input: self.parse_result(\n\u001b[1;32m    171\u001b[0m                     \u001b[0;34m[\u001b[0m\u001b[0mChatGeneration\u001b[0m\u001b[0;34m(\u001b[0m\u001b[0mmessage\u001b[0m\u001b[0;34m=\u001b[0m\u001b[0minner_input\u001b[0m\u001b[0;34m)\u001b[0m\u001b[0;34m]\u001b[0m\u001b[0;34m\u001b[0m\u001b[0;34m\u001b[0m\u001b[0m\n",
            "\u001b[0;32m/usr/local/lib/python3.10/dist-packages/langchain_core/runnables/base.py\u001b[0m in \u001b[0;36m_call_with_config\u001b[0;34m(self, func, input, config, run_type, **kwargs)\u001b[0m\n\u001b[1;32m   1501\u001b[0m             output = cast(\n\u001b[1;32m   1502\u001b[0m                 \u001b[0mOutput\u001b[0m\u001b[0;34m,\u001b[0m\u001b[0;34m\u001b[0m\u001b[0;34m\u001b[0m\u001b[0m\n\u001b[0;32m-> 1503\u001b[0;31m                 context.run(\n\u001b[0m\u001b[1;32m   1504\u001b[0m                     \u001b[0mcall_func_with_variable_args\u001b[0m\u001b[0;34m,\u001b[0m  \u001b[0;31m# type: ignore[arg-type]\u001b[0m\u001b[0;34m\u001b[0m\u001b[0;34m\u001b[0m\u001b[0m\n\u001b[1;32m   1505\u001b[0m                     \u001b[0mfunc\u001b[0m\u001b[0;34m,\u001b[0m  \u001b[0;31m# type: ignore[arg-type]\u001b[0m\u001b[0;34m\u001b[0m\u001b[0;34m\u001b[0m\u001b[0m\n",
            "\u001b[0;32m/usr/local/lib/python3.10/dist-packages/langchain_core/runnables/config.py\u001b[0m in \u001b[0;36mcall_func_with_variable_args\u001b[0;34m(func, input, config, run_manager, **kwargs)\u001b[0m\n\u001b[1;32m    344\u001b[0m     \u001b[0;32mif\u001b[0m \u001b[0mrun_manager\u001b[0m \u001b[0;32mis\u001b[0m \u001b[0;32mnot\u001b[0m \u001b[0;32mNone\u001b[0m \u001b[0;32mand\u001b[0m \u001b[0maccepts_run_manager\u001b[0m\u001b[0;34m(\u001b[0m\u001b[0mfunc\u001b[0m\u001b[0;34m)\u001b[0m\u001b[0;34m:\u001b[0m\u001b[0;34m\u001b[0m\u001b[0;34m\u001b[0m\u001b[0m\n\u001b[1;32m    345\u001b[0m         \u001b[0mkwargs\u001b[0m\u001b[0;34m[\u001b[0m\u001b[0;34m\"run_manager\"\u001b[0m\u001b[0;34m]\u001b[0m \u001b[0;34m=\u001b[0m \u001b[0mrun_manager\u001b[0m\u001b[0;34m\u001b[0m\u001b[0;34m\u001b[0m\u001b[0m\n\u001b[0;32m--> 346\u001b[0;31m     \u001b[0;32mreturn\u001b[0m \u001b[0mfunc\u001b[0m\u001b[0;34m(\u001b[0m\u001b[0minput\u001b[0m\u001b[0;34m,\u001b[0m \u001b[0;34m**\u001b[0m\u001b[0mkwargs\u001b[0m\u001b[0;34m)\u001b[0m  \u001b[0;31m# type: ignore[call-arg]\u001b[0m\u001b[0;34m\u001b[0m\u001b[0;34m\u001b[0m\u001b[0m\n\u001b[0m\u001b[1;32m    347\u001b[0m \u001b[0;34m\u001b[0m\u001b[0m\n\u001b[1;32m    348\u001b[0m \u001b[0;34m\u001b[0m\u001b[0m\n",
            "\u001b[0;32m/usr/local/lib/python3.10/dist-packages/langchain_core/output_parsers/base.py\u001b[0m in \u001b[0;36m<lambda>\u001b[0;34m(inner_input)\u001b[0m\n\u001b[1;32m    168\u001b[0m         \u001b[0;32mif\u001b[0m \u001b[0misinstance\u001b[0m\u001b[0;34m(\u001b[0m\u001b[0minput\u001b[0m\u001b[0;34m,\u001b[0m \u001b[0mBaseMessage\u001b[0m\u001b[0;34m)\u001b[0m\u001b[0;34m:\u001b[0m\u001b[0;34m\u001b[0m\u001b[0;34m\u001b[0m\u001b[0m\n\u001b[1;32m    169\u001b[0m             return self._call_with_config(\n\u001b[0;32m--> 170\u001b[0;31m                 lambda inner_input: self.parse_result(\n\u001b[0m\u001b[1;32m    171\u001b[0m                     \u001b[0;34m[\u001b[0m\u001b[0mChatGeneration\u001b[0m\u001b[0;34m(\u001b[0m\u001b[0mmessage\u001b[0m\u001b[0;34m=\u001b[0m\u001b[0minner_input\u001b[0m\u001b[0;34m)\u001b[0m\u001b[0;34m]\u001b[0m\u001b[0;34m\u001b[0m\u001b[0;34m\u001b[0m\u001b[0m\n\u001b[1;32m    172\u001b[0m                 ),\n",
            "\u001b[0;32m/usr/local/lib/python3.10/dist-packages/langchain_core/output_parsers/pydantic.py\u001b[0m in \u001b[0;36mparse_result\u001b[0;34m(self, result, partial)\u001b[0m\n\u001b[1;32m     59\u001b[0m     ) -> TBaseModel:\n\u001b[1;32m     60\u001b[0m         \u001b[0mjson_object\u001b[0m \u001b[0;34m=\u001b[0m \u001b[0msuper\u001b[0m\u001b[0;34m(\u001b[0m\u001b[0;34m)\u001b[0m\u001b[0;34m.\u001b[0m\u001b[0mparse_result\u001b[0m\u001b[0;34m(\u001b[0m\u001b[0mresult\u001b[0m\u001b[0;34m)\u001b[0m\u001b[0;34m\u001b[0m\u001b[0;34m\u001b[0m\u001b[0m\n\u001b[0;32m---> 61\u001b[0;31m         \u001b[0;32mreturn\u001b[0m \u001b[0mself\u001b[0m\u001b[0;34m.\u001b[0m\u001b[0m_parse_obj\u001b[0m\u001b[0;34m(\u001b[0m\u001b[0mjson_object\u001b[0m\u001b[0;34m)\u001b[0m\u001b[0;34m\u001b[0m\u001b[0;34m\u001b[0m\u001b[0m\n\u001b[0m\u001b[1;32m     62\u001b[0m \u001b[0;34m\u001b[0m\u001b[0m\n\u001b[1;32m     63\u001b[0m     \u001b[0;32mdef\u001b[0m \u001b[0mparse\u001b[0m\u001b[0;34m(\u001b[0m\u001b[0mself\u001b[0m\u001b[0;34m,\u001b[0m \u001b[0mtext\u001b[0m\u001b[0;34m:\u001b[0m \u001b[0mstr\u001b[0m\u001b[0;34m)\u001b[0m \u001b[0;34m->\u001b[0m \u001b[0mTBaseModel\u001b[0m\u001b[0;34m:\u001b[0m\u001b[0;34m\u001b[0m\u001b[0;34m\u001b[0m\u001b[0m\n",
            "\u001b[0;32m/usr/local/lib/python3.10/dist-packages/langchain_core/output_parsers/pydantic.py\u001b[0m in \u001b[0;36m_parse_obj\u001b[0;34m(self, obj)\u001b[0m\n\u001b[1;32m     40\u001b[0m                     )\n\u001b[1;32m     41\u001b[0m             \u001b[0;32mexcept\u001b[0m \u001b[0;34m(\u001b[0m\u001b[0mpydantic\u001b[0m\u001b[0;34m.\u001b[0m\u001b[0mValidationError\u001b[0m\u001b[0;34m,\u001b[0m \u001b[0mpydantic\u001b[0m\u001b[0;34m.\u001b[0m\u001b[0mv1\u001b[0m\u001b[0;34m.\u001b[0m\u001b[0mValidationError\u001b[0m\u001b[0;34m)\u001b[0m \u001b[0;32mas\u001b[0m \u001b[0me\u001b[0m\u001b[0;34m:\u001b[0m\u001b[0;34m\u001b[0m\u001b[0;34m\u001b[0m\u001b[0m\n\u001b[0;32m---> 42\u001b[0;31m                 \u001b[0;32mraise\u001b[0m \u001b[0mself\u001b[0m\u001b[0;34m.\u001b[0m\u001b[0m_parser_exception\u001b[0m\u001b[0;34m(\u001b[0m\u001b[0me\u001b[0m\u001b[0;34m,\u001b[0m \u001b[0mobj\u001b[0m\u001b[0;34m)\u001b[0m\u001b[0;34m\u001b[0m\u001b[0;34m\u001b[0m\u001b[0m\n\u001b[0m\u001b[1;32m     43\u001b[0m         \u001b[0;32melse\u001b[0m\u001b[0;34m:\u001b[0m  \u001b[0;31m# pydantic v1\u001b[0m\u001b[0;34m\u001b[0m\u001b[0;34m\u001b[0m\u001b[0m\n\u001b[1;32m     44\u001b[0m             \u001b[0;32mtry\u001b[0m\u001b[0;34m:\u001b[0m\u001b[0;34m\u001b[0m\u001b[0;34m\u001b[0m\u001b[0m\n",
            "\u001b[0;31mOutputParserException\u001b[0m: Failed to parse MedicalMCQs from completion [{\"mcqs\": [{\"question\": \"What is the most common non-communicable disease worldwide?\", \"options\": [\"Hypertension\", \"Atrio-ventricular septal defect\", \"Cardiomyopathy\", \"Atrial fibrillation\"], \"correct_option\": 0, \"explanation\": \"Hypertension, also known as high blood pressure, is the most common non-communicable disease worldwide. It affects approximately 1 billion people globally. It is a long-term medical condition in which the blood pressure in the arteries is persistently elevated. Hypertension is a major cause of premature death and disability, and it is also a significant risk factor for many other serious health conditions, such as heart disease, stroke, and kidney disease.\"}]}]. Got: 1 validation error for MedicalMCQs\n  Input should be a valid dictionary or instance of MedicalMCQs [type=model_type, input_value=[{'mcqs': [{'question': '...and kidney disease.'}]}], input_type=list]\n    For further information visit https://errors.pydantic.dev/2.7/v/model_type"
          ]
        }
      ]
    },
    {
      "cell_type": "code",
      "source": [
        "extracted_mcqs"
      ],
      "metadata": {
        "colab": {
          "base_uri": "https://localhost:8080/"
        },
        "id": "k0mSpPgkkHzS",
        "outputId": "980fc2c7-11d5-4fd2-f6cf-46832652b9cc"
      },
      "execution_count": 88,
      "outputs": [
        {
          "output_type": "execute_result",
          "data": {
            "text/plain": [
              "MedicalMCQs(mcqs=[MedicalMCQ(question='A 68-year-old man was undergoing aortic bypass surgery. During the procedure, the surgeon accidentally injured an artery arising from the aorta. This artery provides major blood supply to the spinal cord on the left side at the lower thoracic level. Which region is likely to be affected?', options=['Upper two thirds of the spinal cord', 'Lower two thirds of the spinal cord', 'Upper one third of the spinal cord', 'Lower one third of the spinal cord'], correct_option=1, explanation='The artery of Adamkiewicz supplies the lower two-thirds of the spinal cord. It is unilateral and in majority of the people, enters the spinal cord from the left side.')])"
            ]
          },
          "metadata": {},
          "execution_count": 88
        }
      ]
    },
    {
      "cell_type": "code",
      "source": [
        "user_input = \"13201\tIdentify the given image;\tDislocation of elbow\tDislocation of Radial head\tOlecranon fracture\tFracture of radial head\tA\tThe image shows a dislocation of the elbow, which is a type of joint dislocation that occurs when the bones of the elbow joint are forced out of their normal position.\tNULL\tFMGEDEC2023-Meduhub\t2024-05-26 19:44:21.57\"\n",
        "extracted_mcqs = chain.invoke({\"query\": user_input})\n",
        "extracted_mcqs"
      ],
      "metadata": {
        "colab": {
          "base_uri": "https://localhost:8080/"
        },
        "id": "dOzMOMPJnVa8",
        "outputId": "a0a50ea4-a601-4f92-fa05-0707c6bd9640"
      },
      "execution_count": 82,
      "outputs": [
        {
          "output_type": "execute_result",
          "data": {
            "text/plain": [
              "MedicalMCQs(mcqs=[MedicalMCQ(question='What is the diagnosis of the given image?', options=['Dislocation of elbow', 'Dislocation of Radial head', 'Olecranon fracture', 'Fracture of radial head'], correct_option=0, explanation='The image shows a dislocation of the elbow, which is a type of joint dislocation that occurs when the bones of the elbow joint are forced out of their normal position.')])"
            ]
          },
          "metadata": {},
          "execution_count": 82
        }
      ]
    },
    {
      "cell_type": "code",
      "source": [
        "user_input= \"13124\tAMSEL criteria is used for\tTrichomonas\tCandidiasis\tBacterial vaginosis\tGonorrhea\tC\tThe AMSEL criteria are used to diagnose bacterial vaginosis, a common vaginal infection.\tNULL\tFMGEDEC2023-Meduhub\t2024-05-26 19:44:21.55\"\n",
        "extracted_mcqs = chain.invoke({\"query\": user_input})\n",
        "extracted_mcqs"
      ],
      "metadata": {
        "colab": {
          "base_uri": "https://localhost:8080/"
        },
        "id": "qqgWAyamkJPm",
        "outputId": "c6e24884-4913-44f9-fcdb-38aa7ed0e2a7"
      },
      "execution_count": 83,
      "outputs": [
        {
          "output_type": "execute_result",
          "data": {
            "text/plain": [
              "MedicalMCQs(mcqs=[MedicalMCQ(question='What is the use of AMSEL criteria?', options=['Trichomonas', 'Candidiasis', 'Bacterial vaginosis', 'Gonorrhea'], correct_option=2, explanation='The AMSEL criteria are used to diagnose bacterial vaginosis, a common vaginal infection.')])"
            ]
          },
          "metadata": {},
          "execution_count": 83
        }
      ]
    },
    {
      "cell_type": "code",
      "source": [
        "user_input = \"'question': 'A 68-year-old man was undergoing aortic bypass surgery. During the procedure, the surgeon accidentally injured an artery arising from the aorta. This artery provides major blood supply to the spinal cord on the left side at the lower thoracic level. Which region is likely to be affected?\\r\\n', 'options': ['Upper two thirds of the spinal cord', 'Lower two thirds of the spinal cord', 'Upper one third of the spinal cord', 'Lower one third of the spinal cord'], 'correct_option': 1, 'explanation': 'The artery of Adamkiewicz supplies the lower two-thirds of the spinal cord. It is unilateral and in majority of the people, enters the spinal cord from the left side.\\r\\n\"\n",
        "extracted_mcqs = chain.invoke({\"query\": user_input})\n",
        "extracted_mcqs"
      ],
      "metadata": {
        "colab": {
          "base_uri": "https://localhost:8080/"
        },
        "id": "UldanUP0xnRR",
        "outputId": "a94e124b-972e-4b82-cf22-0fcc48b7b07f"
      },
      "execution_count": 84,
      "outputs": [
        {
          "output_type": "execute_result",
          "data": {
            "text/plain": [
              "MedicalMCQs(mcqs=[MedicalMCQ(question='A 68-year-old man was undergoing aortic bypass surgery. During the procedure, the surgeon accidentally injured an artery arising from the aorta. This artery provides major blood supply to the spinal cord on the left side at the lower thoracic level. Which region is likely to be affected?', options=['Upper two thirds of the spinal cord', 'Lower two thirds of the spinal cord', 'Upper one third of the spinal cord', 'Lower one third of the spinal cord'], correct_option=1, explanation='The artery of Adamkiewicz supplies the lower two-thirds of the spinal cord. It is unilateral and in majority of the people, enters the spinal cord from the left side.')])"
            ]
          },
          "metadata": {},
          "execution_count": 84
        }
      ]
    },
    {
      "cell_type": "markdown",
      "source": [
        "## Importing the JSON and fetching question one by one"
      ],
      "metadata": {
        "id": "JgJO7g7ytsOa"
      }
    },
    {
      "cell_type": "code",
      "source": [
        "import json\n",
        "\n",
        "# Open the JSON file\n",
        "with open('medical_mcqs.json', 'r') as f:\n",
        "    mcqs_data = json.load(f)\n",
        "\n",
        "# Get the first MCQ object\n",
        "first_mcq = mcqs_data[0]\n",
        "\n",
        "# Print the question, options, correct option, and explanation\n",
        "print(\"Question:\", first_mcq['question'])\n",
        "print(\"Options:\")\n",
        "for option in first_mcq['options']:\n",
        "    print(\"-\", option)\n",
        "print(\"Correct Option Index:\", first_mcq['correct_option'])\n",
        "print(\"Explanation:\", first_mcq['explanation'])"
      ],
      "metadata": {
        "colab": {
          "base_uri": "https://localhost:8080/"
        },
        "id": "aDIvgbaNtr4e",
        "outputId": "6b5ef18f-4719-4ea7-8701-e6892c7f5917"
      },
      "execution_count": 58,
      "outputs": [
        {
          "output_type": "stream",
          "name": "stdout",
          "text": [
            "Question: A 68-year-old man was undergoing aortic bypass surgery. During the procedure, the surgeon accidentally injured an artery arising from the aorta. This artery provides major blood supply to the spinal cord on the left side at the lower thoracic level. Which region is likely to be affected?\r\n",
            "\n",
            "Options:\n",
            "- Upper two thirds of the spinal cord\n",
            "- Lower two thirds of the spinal cord\n",
            "- Upper one third of the spinal cord\n",
            "- Lower one third of the spinal cord\n",
            "Correct Option Index: 1\n",
            "Explanation: The artery of Adamkiewicz supplies the lower two-thirds of the spinal cord. It is unilateral and in majority of the people, enters the spinal cord from the left side.\r\n",
            "\n"
          ]
        }
      ]
    },
    {
      "cell_type": "code",
      "source": [
        "print(first_mcq)"
      ],
      "metadata": {
        "colab": {
          "base_uri": "https://localhost:8080/"
        },
        "id": "_0wqZVU4oPQj",
        "outputId": "3bce00f8-79af-4e8e-ccf0-68f0e14f9ca6"
      },
      "execution_count": 63,
      "outputs": [
        {
          "output_type": "stream",
          "name": "stdout",
          "text": [
            "{'question': 'A 68-year-old man was undergoing aortic bypass surgery. During the procedure, the surgeon accidentally injured an artery arising from the aorta. This artery provides major blood supply to the spinal cord on the left side at the lower thoracic level. Which region is likely to be affected?\\r\\n', 'options': ['Upper two thirds of the spinal cord', 'Lower two thirds of the spinal cord', 'Upper one third of the spinal cord', 'Lower one third of the spinal cord'], 'correct_option': 1, 'explanation': 'The artery of Adamkiewicz supplies the lower two-thirds of the spinal cord. It is unilateral and in majority of the people, enters the spinal cord from the left side.\\r\\n'}\n"
          ]
        }
      ]
    },
    {
      "cell_type": "code",
      "source": [
        "# Get the first MCQ object\n",
        "first_mcq = mcqs_data[0]\n",
        "\n",
        "# Format the MCQ object as a simple text string\n",
        "user_input = f\"Ques: {first_mcq['question']}\\nOptions: {', '.join(first_mcq['options'])}\\nCorrect option: {first_mcq['correct_option']}\\nExplanation: {first_mcq['explanation']}\"\n",
        "\n",
        "# Pass the formatted text to the chain\n",
        "extracted_mcqs = chain.invoke({\"query\": user_input})"
      ],
      "metadata": {
        "id": "n61LHbGnuMAm"
      },
      "execution_count": 93,
      "outputs": []
    },
    {
      "cell_type": "code",
      "source": [
        "extracted_mcqs"
      ],
      "metadata": {
        "colab": {
          "base_uri": "https://localhost:8080/"
        },
        "id": "roZXR7Rbwf8R",
        "outputId": "f6920dad-d4ec-45de-a8d4-f5929fa43a96"
      },
      "execution_count": 94,
      "outputs": [
        {
          "output_type": "execute_result",
          "data": {
            "text/plain": [
              "MedicalMCQs(mcqs=[MedicalMCQ(question='Which region of the spinal cord is likely to be affected if an artery providing major blood supply to the lower thoracic spinal cord on the left side is injured during aortic bypass surgery?', options=['Upper two thirds of the spinal cord', 'Lower two thirds of the spinal cord', 'Upper one third of the spinal cord', 'Lower one third of the spinal cord'], correct_option=1, explanation='The artery of Adamkiewicz supplies the lower two-thirds of the spinal cord. It is unilateral and in the majority of people, enters the spinal cord from the left side. Injuring this artery during aortic bypass surgery would likely affect the lower two-thirds of the spinal cord.')])"
            ]
          },
          "metadata": {},
          "execution_count": 94
        }
      ]
    },
    {
      "cell_type": "markdown",
      "source": [
        "## Method to process"
      ],
      "metadata": {
        "id": "Cvurr7we0YNi"
      }
    },
    {
      "cell_type": "code",
      "source": [],
      "metadata": {
        "id": "h1uQ4vMLxWwL"
      },
      "execution_count": null,
      "outputs": []
    }
  ]
}