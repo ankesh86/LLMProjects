{
  "nbformat": 4,
  "nbformat_minor": 0,
  "metadata": {
    "colab": {
      "provenance": [],
      "authorship_tag": "ABX9TyPewr3nIWPLAS5hS8uhwgxP",
      "include_colab_link": true
    },
    "kernelspec": {
      "name": "python3",
      "display_name": "Python 3"
    },
    "language_info": {
      "name": "python"
    }
  },
  "cells": [
    {
      "cell_type": "markdown",
      "metadata": {
        "id": "view-in-github",
        "colab_type": "text"
      },
      "source": [
        "<a href=\"https://colab.research.google.com/github/ankesh86/LLMProjects/blob/main/Pipelines.ipynb\" target=\"_parent\"><img src=\"https://colab.research.google.com/assets/colab-badge.svg\" alt=\"Open In Colab\"/></a>"
      ]
    },
    {
      "cell_type": "code",
      "execution_count": 1,
      "metadata": {
        "id": "-EeMH95VZmCv"
      },
      "outputs": [],
      "source": [
        "from transformers import pipeline"
      ]
    },
    {
      "cell_type": "code",
      "source": [
        "classifier = pipeline(\"zero-shot-classification\")\n",
        "\n",
        "question_text = '''13)\tA metal factory worker suffers from noise-induced hearing loss. Which of the following structures will be affected?\n",
        "a)\tCrista ampullaris\n",
        "b)\tMacula\n",
        "c)\tCupola\n",
        "d)\tOuter hair cells\n",
        "Answer: Outer hair cells\n",
        "Noise-induced hearing loss (NIHL) damages the outer hair cells, starting in the basal turn of the cochlea. Outer hair cells are affected before the inner hair cells.\n",
        "NIHL occurs after chronic exposure to less intense sounds. The damage caused by noise trauma depends on the frequency of noise (frequency of 2000 to 3000 Hz causes more damage) intensity, duration of the noise, and preexisting ear disease.\n",
        "'''\n",
        "\n",
        "res = classifier(\n",
        "    question_text, candidate_labels=[\"Recall-Based\", \"Application-Based\", \"Analytical Reasoning\", \"Problem-Solving\", \"Critical Thinking\", \"Clinical Decision-Making\"]\n",
        ")\n",
        "\n",
        "print(res)"
      ],
      "metadata": {
        "colab": {
          "base_uri": "https://localhost:8080/"
        },
        "id": "EvCm30PjZsl9",
        "outputId": "efa4a461-721f-49d6-8ce4-790e975624ce"
      },
      "execution_count": 4,
      "outputs": [
        {
          "output_type": "stream",
          "name": "stderr",
          "text": [
            "No model was supplied, defaulted to facebook/bart-large-mnli and revision c626438 (https://huggingface.co/facebook/bart-large-mnli).\n",
            "Using a pipeline without specifying a model name and revision in production is not recommended.\n"
          ]
        },
        {
          "output_type": "stream",
          "name": "stdout",
          "text": [
            "{'sequence': '13)\\tA metal factory worker suffers from noise-induced hearing loss. Which of the following structures will be affected?\\na)\\tCrista ampullaris\\nb)\\tMacula\\nc)\\tCupola\\nd)\\tOuter hair cells \\nAnswer: Outer hair cells \\nNoise-induced hearing loss (NIHL) damages the outer hair cells, starting in the basal turn of the cochlea. Outer hair cells are affected before the inner hair cells.\\nNIHL occurs after chronic exposure to less intense sounds. The damage caused by noise trauma depends on the frequency of noise (frequency of 2000 to 3000 Hz causes more damage) intensity, duration of the noise, and preexisting ear disease.\\n', 'labels': ['Recall-Based', 'Problem-Solving', 'Application-Based', 'Critical Thinking', 'Clinical Decision-Making', 'Analytical Reasoning'], 'scores': [0.24252690374851227, 0.22335052490234375, 0.1758425086736679, 0.14910800755023956, 0.12523749470710754, 0.08393463492393494]}\n"
          ]
        }
      ]
    },
    {
      "cell_type": "code",
      "source": [
        "\n",
        "\n",
        "3)\tYou are an intern asking a patient to perform a Valsalva manoeuvre for the relief of an ear block. Which of the following structure helps in opening the eustachian tube during this manoeuvre?\n",
        "a)\tTensor tympani\n",
        "b)\tTensor veli palatini\n",
        "c)\tStylopharyngeus\n",
        "d)\tPalatopharyngeus\n",
        "Answer: Tensor veli palatini\n",
        "Tensor veli palatini helps in opening the Eustachian tube during the Valsalva manoeuvre.\n",
        "It is closed at rest and opens intermittently during swallowing, yawning and sneezing.\n",
        "#'labels': ['Problem-Solving', 'Application-Based', 'Recall-Based', 'Critical Thinking', 'Clinical Decision-Making', 'Analytical Reasoning'],\n",
        "#'scores': [0.23025457561016083, 0.1936728060245514, 0.19313746690750122, 0.14967046678066254, 0.1488940715789795, 0.08437064290046692]}\n",
        "\n",
        "\n",
        "{'sequence': '13)\\tA metal factory worker suffers from noise-induced hearing loss. Which of the following structures will be affected?\\na)\\tCrista ampullaris\\nb)\\tMacula\\nc)\\tCupola\\nd)\\tOuter hair cells \\nAnswer: Outer hair cells \\nNoise-induced hearing loss (NIHL) damages the outer hair cells, starting in the basal turn of the cochlea. Outer hair cells are affected before the inner hair cells.\\nNIHL occurs after chronic exposure to less intense sounds. The damage caused by noise trauma depends on the frequency of noise (frequency of 2000 to 3000 Hz causes more damage) intensity, duration of the noise, and preexisting ear disease.\\n',\n",
        " 'labels': ['Recall-Based', 'Problem-Solving', 'Application-Based', 'Critical Thinking', 'Clinical Decision-Making', 'Analytical Reasoning'],\n",
        " 'scores': [0.24252690374851227, 0.22335052490234375, 0.1758425086736679, 0.14910800755023956, 0.12523749470710754, 0.08393463492393494]}\n",
        "[ ]\n"
      ],
      "metadata": {
        "id": "INvp_I4BblmP"
      },
      "execution_count": null,
      "outputs": []
    }
  ]
}