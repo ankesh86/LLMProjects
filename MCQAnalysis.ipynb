{
  "nbformat": 4,
  "nbformat_minor": 0,
  "metadata": {
    "colab": {
      "provenance": [],
      "authorship_tag": "ABX9TyN/RRLO06Rm0H8oQ4O1tzx1",
      "include_colab_link": true
    },
    "kernelspec": {
      "name": "python3",
      "display_name": "Python 3"
    },
    "language_info": {
      "name": "python"
    }
  },
  "cells": [
    {
      "cell_type": "markdown",
      "metadata": {
        "id": "view-in-github",
        "colab_type": "text"
      },
      "source": [
        "<a href=\"https://colab.research.google.com/github/ankesh86/LLMProjects/blob/main/MCQAnalysis.ipynb\" target=\"_parent\"><img src=\"https://colab.research.google.com/assets/colab-badge.svg\" alt=\"Open In Colab\"/></a>"
      ]
    },
    {
      "cell_type": "code",
      "source": [
        "!pip install langchain-groq langchain\n"
      ],
      "metadata": {
        "colab": {
          "base_uri": "https://localhost:8080/"
        },
        "id": "zdaZNme7Ea5_",
        "outputId": "9decc49d-7420-4d5f-e4fd-15a67f97bd1c"
      },
      "execution_count": 2,
      "outputs": [
        {
          "output_type": "stream",
          "name": "stdout",
          "text": [
            "Collecting langchain-groq\n",
            "  Downloading langchain_groq-0.1.3-py3-none-any.whl (11 kB)\n",
            "Collecting langchain\n",
            "  Downloading langchain-0.1.17-py3-none-any.whl (867 kB)\n",
            "\u001b[2K     \u001b[90m━━━━━━━━━━━━━━━━━━━━━━━━━━━━━━━━━━━━━━━━\u001b[0m \u001b[32m867.6/867.6 kB\u001b[0m \u001b[31m2.9 MB/s\u001b[0m eta \u001b[36m0:00:00\u001b[0m\n",
            "\u001b[?25hCollecting groq<1,>=0.4.1 (from langchain-groq)\n",
            "  Downloading groq-0.5.0-py3-none-any.whl (75 kB)\n",
            "\u001b[2K     \u001b[90m━━━━━━━━━━━━━━━━━━━━━━━━━━━━━━━━━━━━━━━━\u001b[0m \u001b[32m75.0/75.0 kB\u001b[0m \u001b[31m6.1 MB/s\u001b[0m eta \u001b[36m0:00:00\u001b[0m\n",
            "\u001b[?25hCollecting langchain-core<0.2.0,>=0.1.45 (from langchain-groq)\n",
            "  Downloading langchain_core-0.1.51-py3-none-any.whl (302 kB)\n",
            "\u001b[2K     \u001b[90m━━━━━━━━━━━━━━━━━━━━━━━━━━━━━━━━━━━━━━━━\u001b[0m \u001b[32m302.9/302.9 kB\u001b[0m \u001b[31m10.7 MB/s\u001b[0m eta \u001b[36m0:00:00\u001b[0m\n",
            "\u001b[?25hRequirement already satisfied: PyYAML>=5.3 in /usr/local/lib/python3.10/dist-packages (from langchain) (6.0.1)\n",
            "Requirement already satisfied: SQLAlchemy<3,>=1.4 in /usr/local/lib/python3.10/dist-packages (from langchain) (2.0.29)\n",
            "Requirement already satisfied: aiohttp<4.0.0,>=3.8.3 in /usr/local/lib/python3.10/dist-packages (from langchain) (3.9.5)\n",
            "Requirement already satisfied: async-timeout<5.0.0,>=4.0.0 in /usr/local/lib/python3.10/dist-packages (from langchain) (4.0.3)\n",
            "Collecting dataclasses-json<0.7,>=0.5.7 (from langchain)\n",
            "  Downloading dataclasses_json-0.6.5-py3-none-any.whl (28 kB)\n",
            "Collecting jsonpatch<2.0,>=1.33 (from langchain)\n",
            "  Downloading jsonpatch-1.33-py2.py3-none-any.whl (12 kB)\n",
            "Collecting langchain-community<0.1,>=0.0.36 (from langchain)\n",
            "  Downloading langchain_community-0.0.37-py3-none-any.whl (2.0 MB)\n",
            "\u001b[2K     \u001b[90m━━━━━━━━━━━━━━━━━━━━━━━━━━━━━━━━━━━━━━━━\u001b[0m \u001b[32m2.0/2.0 MB\u001b[0m \u001b[31m32.1 MB/s\u001b[0m eta \u001b[36m0:00:00\u001b[0m\n",
            "\u001b[?25hCollecting langchain-text-splitters<0.1,>=0.0.1 (from langchain)\n",
            "  Downloading langchain_text_splitters-0.0.1-py3-none-any.whl (21 kB)\n",
            "Collecting langsmith<0.2.0,>=0.1.17 (from langchain)\n",
            "  Downloading langsmith-0.1.54-py3-none-any.whl (116 kB)\n",
            "\u001b[2K     \u001b[90m━━━━━━━━━━━━━━━━━━━━━━━━━━━━━━━━━━━━━━━━\u001b[0m \u001b[32m116.7/116.7 kB\u001b[0m \u001b[31m2.5 MB/s\u001b[0m eta \u001b[36m0:00:00\u001b[0m\n",
            "\u001b[?25hRequirement already satisfied: numpy<2,>=1 in /usr/local/lib/python3.10/dist-packages (from langchain) (1.25.2)\n",
            "Requirement already satisfied: pydantic<3,>=1 in /usr/local/lib/python3.10/dist-packages (from langchain) (2.7.1)\n",
            "Requirement already satisfied: requests<3,>=2 in /usr/local/lib/python3.10/dist-packages (from langchain) (2.31.0)\n",
            "Requirement already satisfied: tenacity<9.0.0,>=8.1.0 in /usr/local/lib/python3.10/dist-packages (from langchain) (8.2.3)\n",
            "Requirement already satisfied: aiosignal>=1.1.2 in /usr/local/lib/python3.10/dist-packages (from aiohttp<4.0.0,>=3.8.3->langchain) (1.3.1)\n",
            "Requirement already satisfied: attrs>=17.3.0 in /usr/local/lib/python3.10/dist-packages (from aiohttp<4.0.0,>=3.8.3->langchain) (23.2.0)\n",
            "Requirement already satisfied: frozenlist>=1.1.1 in /usr/local/lib/python3.10/dist-packages (from aiohttp<4.0.0,>=3.8.3->langchain) (1.4.1)\n",
            "Requirement already satisfied: multidict<7.0,>=4.5 in /usr/local/lib/python3.10/dist-packages (from aiohttp<4.0.0,>=3.8.3->langchain) (6.0.5)\n",
            "Requirement already satisfied: yarl<2.0,>=1.0 in /usr/local/lib/python3.10/dist-packages (from aiohttp<4.0.0,>=3.8.3->langchain) (1.9.4)\n",
            "Collecting marshmallow<4.0.0,>=3.18.0 (from dataclasses-json<0.7,>=0.5.7->langchain)\n",
            "  Downloading marshmallow-3.21.2-py3-none-any.whl (49 kB)\n",
            "\u001b[2K     \u001b[90m━━━━━━━━━━━━━━━━━━━━━━━━━━━━━━━━━━━━━━━━\u001b[0m \u001b[32m49.3/49.3 kB\u001b[0m \u001b[31m2.7 MB/s\u001b[0m eta \u001b[36m0:00:00\u001b[0m\n",
            "\u001b[?25hCollecting typing-inspect<1,>=0.4.0 (from dataclasses-json<0.7,>=0.5.7->langchain)\n",
            "  Downloading typing_inspect-0.9.0-py3-none-any.whl (8.8 kB)\n",
            "Requirement already satisfied: anyio<5,>=3.5.0 in /usr/local/lib/python3.10/dist-packages (from groq<1,>=0.4.1->langchain-groq) (3.7.1)\n",
            "Requirement already satisfied: distro<2,>=1.7.0 in /usr/lib/python3/dist-packages (from groq<1,>=0.4.1->langchain-groq) (1.7.0)\n",
            "Collecting httpx<1,>=0.23.0 (from groq<1,>=0.4.1->langchain-groq)\n",
            "  Downloading httpx-0.27.0-py3-none-any.whl (75 kB)\n",
            "\u001b[2K     \u001b[90m━━━━━━━━━━━━━━━━━━━━━━━━━━━━━━━━━━━━━━━━\u001b[0m \u001b[32m75.6/75.6 kB\u001b[0m \u001b[31m4.3 MB/s\u001b[0m eta \u001b[36m0:00:00\u001b[0m\n",
            "\u001b[?25hRequirement already satisfied: sniffio in /usr/local/lib/python3.10/dist-packages (from groq<1,>=0.4.1->langchain-groq) (1.3.1)\n",
            "Requirement already satisfied: typing-extensions<5,>=4.7 in /usr/local/lib/python3.10/dist-packages (from groq<1,>=0.4.1->langchain-groq) (4.11.0)\n",
            "Collecting jsonpointer>=1.9 (from jsonpatch<2.0,>=1.33->langchain)\n",
            "  Downloading jsonpointer-2.4-py2.py3-none-any.whl (7.8 kB)\n",
            "Collecting packaging<24.0,>=23.2 (from langchain-core<0.2.0,>=0.1.45->langchain-groq)\n",
            "  Downloading packaging-23.2-py3-none-any.whl (53 kB)\n",
            "\u001b[2K     \u001b[90m━━━━━━━━━━━━━━━━━━━━━━━━━━━━━━━━━━━━━━━━\u001b[0m \u001b[32m53.0/53.0 kB\u001b[0m \u001b[31m3.5 MB/s\u001b[0m eta \u001b[36m0:00:00\u001b[0m\n",
            "\u001b[?25hCollecting orjson<4.0.0,>=3.9.14 (from langsmith<0.2.0,>=0.1.17->langchain)\n",
            "  Downloading orjson-3.10.3-cp310-cp310-manylinux_2_17_x86_64.manylinux2014_x86_64.whl (142 kB)\n",
            "\u001b[2K     \u001b[90m━━━━━━━━━━━━━━━━━━━━━━━━━━━━━━━━━━━━━━━━\u001b[0m \u001b[32m142.5/142.5 kB\u001b[0m \u001b[31m4.8 MB/s\u001b[0m eta \u001b[36m0:00:00\u001b[0m\n",
            "\u001b[?25hRequirement already satisfied: annotated-types>=0.4.0 in /usr/local/lib/python3.10/dist-packages (from pydantic<3,>=1->langchain) (0.6.0)\n",
            "Requirement already satisfied: pydantic-core==2.18.2 in /usr/local/lib/python3.10/dist-packages (from pydantic<3,>=1->langchain) (2.18.2)\n",
            "Requirement already satisfied: charset-normalizer<4,>=2 in /usr/local/lib/python3.10/dist-packages (from requests<3,>=2->langchain) (3.3.2)\n",
            "Requirement already satisfied: idna<4,>=2.5 in /usr/local/lib/python3.10/dist-packages (from requests<3,>=2->langchain) (3.7)\n",
            "Requirement already satisfied: urllib3<3,>=1.21.1 in /usr/local/lib/python3.10/dist-packages (from requests<3,>=2->langchain) (2.0.7)\n",
            "Requirement already satisfied: certifi>=2017.4.17 in /usr/local/lib/python3.10/dist-packages (from requests<3,>=2->langchain) (2024.2.2)\n",
            "Requirement already satisfied: greenlet!=0.4.17 in /usr/local/lib/python3.10/dist-packages (from SQLAlchemy<3,>=1.4->langchain) (3.0.3)\n",
            "Requirement already satisfied: exceptiongroup in /usr/local/lib/python3.10/dist-packages (from anyio<5,>=3.5.0->groq<1,>=0.4.1->langchain-groq) (1.2.1)\n",
            "Collecting httpcore==1.* (from httpx<1,>=0.23.0->groq<1,>=0.4.1->langchain-groq)\n",
            "  Downloading httpcore-1.0.5-py3-none-any.whl (77 kB)\n",
            "\u001b[2K     \u001b[90m━━━━━━━━━━━━━━━━━━━━━━━━━━━━━━━━━━━━━━━━\u001b[0m \u001b[32m77.9/77.9 kB\u001b[0m \u001b[31m5.4 MB/s\u001b[0m eta \u001b[36m0:00:00\u001b[0m\n",
            "\u001b[?25hCollecting h11<0.15,>=0.13 (from httpcore==1.*->httpx<1,>=0.23.0->groq<1,>=0.4.1->langchain-groq)\n",
            "  Downloading h11-0.14.0-py3-none-any.whl (58 kB)\n",
            "\u001b[2K     \u001b[90m━━━━━━━━━━━━━━━━━━━━━━━━━━━━━━━━━━━━━━━━\u001b[0m \u001b[32m58.3/58.3 kB\u001b[0m \u001b[31m4.8 MB/s\u001b[0m eta \u001b[36m0:00:00\u001b[0m\n",
            "\u001b[?25hCollecting mypy-extensions>=0.3.0 (from typing-inspect<1,>=0.4.0->dataclasses-json<0.7,>=0.5.7->langchain)\n",
            "  Downloading mypy_extensions-1.0.0-py3-none-any.whl (4.7 kB)\n",
            "Installing collected packages: packaging, orjson, mypy-extensions, jsonpointer, h11, typing-inspect, marshmallow, jsonpatch, httpcore, langsmith, httpx, dataclasses-json, langchain-core, groq, langchain-text-splitters, langchain-groq, langchain-community, langchain\n",
            "  Attempting uninstall: packaging\n",
            "    Found existing installation: packaging 24.0\n",
            "    Uninstalling packaging-24.0:\n",
            "      Successfully uninstalled packaging-24.0\n",
            "Successfully installed dataclasses-json-0.6.5 groq-0.5.0 h11-0.14.0 httpcore-1.0.5 httpx-0.27.0 jsonpatch-1.33 jsonpointer-2.4 langchain-0.1.17 langchain-community-0.0.37 langchain-core-0.1.51 langchain-groq-0.1.3 langchain-text-splitters-0.0.1 langsmith-0.1.54 marshmallow-3.21.2 mypy-extensions-1.0.0 orjson-3.10.3 packaging-23.2 typing-inspect-0.9.0\n"
          ]
        }
      ]
    },
    {
      "cell_type": "code",
      "execution_count": 34,
      "metadata": {
        "id": "ggDTYsseEXJI"
      },
      "outputs": [],
      "source": [
        "from langchain_core.prompts import ChatPromptTemplate\n",
        "from langchain_groq import ChatGroq\n",
        "from google.colab import userdata\n",
        "\n",
        "# Set up additional parameters if possible\n",
        "model_parameters = {\n",
        "    #\"max_tokens\": 1024,  # Setting a large enough limit to handle verbose medical questions\n",
        "    \"temperature\": 0.00001,  # Keeping the output deterministic\n",
        "    #\"topP\": 0.7,\n",
        "}\n",
        "\n",
        "model = ChatGroq(**model_parameters, groq_api_key=userdata.get('GROQ_API_KEY'), model_name=\"mixtral-8x7b-32768\")\n",
        "#llama3-70b-8192\")\n",
        "#\"mixtral-8x7b-32768\")"
      ]
    },
    {
      "cell_type": "code",
      "source": [
        "from typing import List\n",
        "\n",
        "from langchain.output_parsers import PydanticOutputParser\n",
        "from langchain.prompts import PromptTemplate\n",
        "from langchain_core.pydantic_v1 import BaseModel, Field, validator\n",
        "from pydantic import BaseModel, Field\n",
        "\n",
        "class MedicalMCQ(BaseModel):\n",
        "    question: str = Field(description=\"The medical multiple-choice question.\")\n",
        "    options: List[str] = Field(description=\"List of answer options for the MCQ.\")\n",
        "    correct_option: int = Field(description=\"Index of the correct answer option, zero-indexed.\")\n",
        "    explanation: str = Field(description=\"Explanation or additional context related to the question.\")\n",
        "    reasoning_abilities: List[str] = Field(description=\"Reasoning abilities: Recall-Based Questions, Application-Based Questions, Analytical Reasoning, Problem-Solving, Critical Thinking, Clinical Decision-Making.\")\n",
        "    difficulty_level: str = Field(description=\"Difficulty levels: Hard, Moderate, Easy.\")\n",
        "\n",
        "# Initialize the parser for the MedicalMCQ model\n",
        "mcq_parser = PydanticOutputParser(pydantic_object=MedicalMCQ)\n",
        "\n",
        "# Create a prompt template for generating a structured output from unformatted text\n",
        "mcq_prompt = PromptTemplate(\n",
        "    template=\"\"\"\n",
        "    Considering you are an analyst and have to categorize the question according to the section in which the question lies most.\n",
        "    Extract the medical MCQ where there would be only and only 4 option from the following text and analyze the following MCQ.\n",
        "    A. If Explanation is missing, provide an explanation else, give the explanation provided.\n",
        "    B. Consider the following difficulty levels on the in terms of the cognitive processes involved and the knowledge required to answer them correctly: Hard, Moderate, Easy.\n",
        "    C. Consider the following reasoning abilities: Recall-Based Questions, Application-Based Questions, Analytical Reasoning, Problem-Solving, Critical Thinking, Clinical Decision-Making.\n",
        "    Assess various types of reasoning abilities:\n",
        "    Recall-Based Questions:\n",
        "    Description: These questions test the candidate’s ability to recall facts, figures, and concepts learned during their medical education.\n",
        "    Example: What is the normal range of serum creatinine in adults?\n",
        "    Application-Based Questions:\n",
        "    Description: These questions require candidates to apply their knowledge to clinical scenarios.\n",
        "    Example: A patient presents with symptoms of polyuria and polydipsia. Which of the following tests would confirm the diagnosis of diabetes insipidus?\n",
        "    Analytical Reasoning:\n",
        "    Description: This involves interpreting data from graphs, studies, or experiments to make clinical decisions.\n",
        "    Example: Reviewing a set of lab results and determining the most likely diagnosis or the best next step in management.\n",
        "    Problem-Solving:\n",
        "    Description: These questions test the ability to solve complex problems, often involving multiple steps or integrating knowledge from multiple areas.\n",
        "    Example: A patient with a history of renal failure and hypertension presents with a severe headache and blurred vision. What should be the immediate course of action?\n",
        "    Critical Thinking:\n",
        "    Description: Questions that assess the ability to critically evaluate information, assess evidence, and make judgments that help in patient care.\n",
        "    Example: Evaluating the risks and benefits of a surgical procedure in a high-risk patient.\n",
        "    Clinical Decision-Making:\n",
        "    Description: These involve scenarios where candidates must choose the best clinical management strategy based on patient history, examination findings, and diagnostic results.\n",
        "    Example: Choosing the appropriate antibiotic therapy based on culture and sensitivity reports.\n",
        "\n",
        "     \\n{format_instructions}\\n{query}\\n\"\"\",\n",
        "    input_variables=[\"query\"],  # This will contain the unformatted MCQ text\n",
        "    partial_variables={\"format_instructions\": mcq_parser.get_format_instructions()},\n",
        ")\n",
        "\n",
        "# Assuming 'model' refers to a suitable model from LangChain that can parse the text to JSON\n",
        "chain = mcq_prompt | model | mcq_parser\n"
      ],
      "metadata": {
        "id": "ho4T-MpOMLny"
      },
      "execution_count": 35,
      "outputs": []
    },
    {
      "cell_type": "code",
      "source": [
        "# Example text input\n",
        "mcq_text = \"\"\"\n",
        "QuesNo\tQuestion\tOptionA\tOptionB\tOptionC\tOptionD\tAnswer\tExplanation\tSubject\tTag\tEnteredDate\n",
        "314\tWhich of the following best describes a posthumous child?\n",
        "\tDelivery of a macerated fetus\n",
        "\tChild is delivered after death of biological father\n",
        "\tChild is born to an unmarried couple\n",
        "\tChild is abandoned by the parents\n",
        "\tB\n",
        "\tA posthumous child is a child delivered after the death of the biological father, or a child delivered after the death of the biological mother, usually when delivered by a cesarean section.\n",
        "Illegitimate child is a child born out of wedlock\n",
        "i.e. when the parents are not married.\n",
        "Supposititious child or fictitious child is when a woman pretends to go through pregnancy and deliverv. Later, she oroduces a livina child as her\n",
        "\tNULL\tCamScanner 10-29-2022 01.44\t2022-10-29 14:15:14.95\n",
        "\"\"\"\n",
        "\n",
        "# Invoke the chain with the unformatted text as input\n",
        "extracted_mcq = chain.invoke({\"query\": mcq_text})\n",
        "\n",
        "# Access the extracted data\n",
        "print(f\"Question: {extracted_mcq.question}\")\n",
        "print(f\"Options: {extracted_mcq.options}\")\n",
        "print(f\"Correct Option: {extracted_mcq.correct_option}\")\n",
        "print(f\"Explanation: {extracted_mcq.explanation}\")\n",
        "print(f\"Reasoning ability: {extracted_mcq.reasoning_abilities}\")\n",
        "print(f\"Difficulty level: {extracted_mcq.difficulty_level}\")"
      ],
      "metadata": {
        "colab": {
          "base_uri": "https://localhost:8080/"
        },
        "id": "SF7CO-SbO4DD",
        "outputId": "9cb4b153-97ee-40b4-df27-52fd43349b79"
      },
      "execution_count": 37,
      "outputs": [
        {
          "output_type": "stream",
          "name": "stdout",
          "text": [
            "Question: Which of the following best describes a posthumous child?\n",
            "Options: ['Delivery of a macerated fetus', 'Child is delivered after death of biological father', 'Child is born to an unmarried couple', 'Child is abandoned by the parents']\n",
            "Correct Option: 1\n",
            "Explanation: A posthumous child is a child delivered after the death of the biological father, or a child delivered after the death of the biological mother, usually when delivered by a cesarean section.\n",
            "Reasoning ability: ['Recall-Based Questions']\n",
            "Difficulty level: Easy\n"
          ]
        }
      ]
    },
    {
      "cell_type": "code",
      "source": [],
      "metadata": {
        "id": "plUSSavgPgw2"
      },
      "execution_count": null,
      "outputs": []
    }
  ]
}